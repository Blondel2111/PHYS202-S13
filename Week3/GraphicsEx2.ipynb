{
 "metadata": {
  "name": "GraphicsEx2"
 },
 "nbformat": 3,
 "nbformat_minor": 0,
 "worksheets": [
  {
   "cells": [
    {
     "cell_type": "markdown",
     "metadata": {},
     "source": [
      "1.\n",
      "-"
     ]
    },
    {
     "cell_type": "markdown",
     "metadata": {},
     "source": [
      "(a)"
     ]
    },
    {
     "cell_type": "markdown",
     "metadata": {},
     "source": [
      "$\\psi_k(x)=A\\left(\\frac{ik-atanh(ax)}{ik+a}\\right)e^{+ikx}$"
     ]
    },
    {
     "cell_type": "markdown",
     "metadata": {},
     "source": [
      "(b)"
     ]
    },
    {
     "cell_type": "markdown",
     "metadata": {},
     "source": [
      "$v_1=m_2\\sqrt{\\frac{2G}{M}\\left(\\frac{1}{r}-\\frac{1}{r_0}\\right)}$"
     ]
    },
    {
     "cell_type": "markdown",
     "metadata": {},
     "source": [
      "(c)"
     ]
    },
    {
     "cell_type": "markdown",
     "metadata": {},
     "source": [
      "$f(\\theta)=\\frac{\\hslash}{p}\\displaystyle\\sum_{\\ell=0}^{\\infty} (2\\ell+1)e^{i\\delta_\\ell}\\sin \\delta_{\\ell}P_{\\ell}\\(cos\\theta)$"
     ]
    },
    {
     "cell_type": "markdown",
     "metadata": {},
     "source": [
      "(d)"
     ]
    },
    {
     "cell_type": "markdown",
     "metadata": {},
     "source": [
      "$\\frac{d\\sigma}{d\\Omega}=\\frac{k{\\pi}^2({\\pi}-{\\theta})}{mu_0^2{\\theta}^2(2\\pi-\\theta)^2\\sin\\theta}$"
     ]
    },
    {
     "cell_type": "markdown",
     "metadata": {},
     "source": [
      "(e)"
     ]
    },
    {
     "cell_type": "markdown",
     "metadata": {},
     "source": [
      "$\\langle{f}\\rangle=\\frac{1}{\\tau}\\int_0^\\tau f(t)dt$"
     ]
    },
    {
     "cell_type": "markdown",
     "metadata": {},
     "source": [
      "(f)"
     ]
    },
    {
     "cell_type": "markdown",
     "metadata": {},
     "source": [
      "$\\Omega_S=\\omega\\frac{\\sin\\alpha}{\\sin\\theta}=\\frac{L}{\\lambda_1}=\\omega\\frac{\\sqrt{\\lambda_3^2+(\\lambda_1^2-\\lambda_3^2)\\sin\\alpha}}{\\lambda_1}$"
     ]
    },
    {
     "cell_type": "markdown",
     "metadata": {},
     "source": [
      "2.\n",
      "-"
     ]
    },
    {
     "cell_type": "code",
     "collapsed": false,
     "input": [
      "i=complex(0,1)\n",
      "x=arange(-pi,pi,.01)\n",
      "U=-1*cosh(x)**-2\n",
      "k00=-1*tanh(x)\n",
      "k00c=conjugate(k00)\n",
      "k1=k00*k00c\n",
      "k05=(.5*i-tanh(x))/(i*.5+1)*e**(i*.5*x)\n",
      "k05c=conjugate(k05)\n",
      "k2=k05*k05c\n",
      "k10=(1.0*i-tanh(x))/(i+1)*e**(i*x)\n",
      "k10c=conjugate(k10)\n",
      "k3=k10*k10c\n",
      "k20=(2.0*i-tanh(x))/(2.0*i+1)*e**(i*2.0*x)\n",
      "k20c=conjugate(k20)\n",
      "k4=k20*k20c"
     ],
     "language": "python",
     "metadata": {},
     "outputs": [],
     "prompt_number": 37
    },
    {
     "cell_type": "code",
     "collapsed": false,
     "input": [
      "plot(x,U,color=\"blue\",linewidth=2,label=\"$U(x)$\")\n",
      "plot(x,k1,color=\"red\",linewidth=2,label=\"$\\psi^2, k=0.0$\")\n",
      "plot(x,k2,color=\"red\",linewidth=2,linestyle=\"--\",label=\"$\\psi^2, k=0.5$\")\n",
      "plot(x,k3,color=\"red\",linewidth=2,linestyle=\"-.\",label=\"$\\psi^2, k=1.0$\")\n",
      "plot(x,k4,color=\"red\",linewidth=2,linestyle=\":\",label=\"$\\psi^2, k=2.0$\")\n",
      "xlabel(\"$x(rad)$\",fontsize=16)\n",
      "ylabel(\"$U(x),\\psi^2(x)$\",fontsize=16)\n",
      "grid(True)\n",
      "legend()"
     ],
     "language": "python",
     "metadata": {},
     "outputs": [
      {
       "output_type": "pyout",
       "prompt_number": 41,
       "text": [
        "<matplotlib.legend.Legend at 0x10cbc7410>"
       ]
      },
      {
       "output_type": "display_data",
       "png": "[encoded data removed]"
      }
     ],
     "prompt_number": 41
    },
    {
     "cell_type": "code",
     "collapsed": false,
     "input": [],
     "language": "python",
     "metadata": {},
     "outputs": []
    }
   ],
   "metadata": {}
  }
 ]
}