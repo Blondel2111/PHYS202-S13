{
 "metadata": {
  "name": "IntegrationEx4"
 },
 "nbformat": 3,
 "nbformat_minor": 0,
 "worksheets": [
  {
   "cells": [
    {
     "cell_type": "markdown",
     "metadata": {},
     "source": [
      "1.\n",
      "="
     ]
    },
    {
     "cell_type": "markdown",
     "metadata": {},
     "source": [
      "(a)"
     ]
    },
    {
     "cell_type": "code",
     "collapsed": false,
     "input": [
      "import scipy.integrate as integrate\n",
      "f=lambda t:e**(-1*(t**2))\n",
      "x=arange(0,3.1,.1)\n",
      "N=1000\n",
      "a=0.0\n",
      "b=x\n",
      "h=(b-a)/N\n",
      "s=f(a)+f(b)\n",
      "s1=0.0\n",
      "s2=0.0\n",
      "for k in range(1,N/2+1):\n",
      "    s1 += f(a+(2*k-1)*h)\n",
      "for l in range(1,N/2):\n",
      "    s2 += f(a+2*l*h)\n",
      "E=((h/3)*(s+4*s1+2*s2))\n",
      "print sum(((h/3)*(s+4*s1+2*s2)))"
     ],
     "language": "python",
     "metadata": {},
     "outputs": [
      {
       "output_type": "stream",
       "stream": "stdout",
       "text": [
        "22.0216060785\n"
       ]
      }
     ],
     "prompt_number": 7
    },
    {
     "cell_type": "markdown",
     "metadata": {},
     "source": [
      "(b)"
     ]
    },
    {
     "cell_type": "code",
     "collapsed": false,
     "input": [
      "plot(x,E)"
     ],
     "language": "python",
     "metadata": {},
     "outputs": [
      {
       "output_type": "pyout",
       "prompt_number": 8,
       "text": [
        "[<matplotlib.lines.Line2D at 0x33030d0>]"
       ]
      },
      {
       "output_type": "display_data",
       "png": "[encoded data removed]"
      }
     ],
     "prompt_number": 8
    },
    {
     "cell_type": "markdown",
     "metadata": {},
     "source": [
      "2.\n",
      "="
     ]
    },
    {
     "cell_type": "markdown",
     "metadata": {},
     "source": [
      "(a)"
     ]
    },
    {
     "cell_type": "code",
     "collapsed": false,
     "input": [
      "L=1\n",
      "x=arange(L/3.,L/2.+.01,.01)\n",
      "P=integrate.trapz(2/L*(sin(pi*x/L))**2,x)\n",
      "print P"
     ],
     "language": "python",
     "metadata": {},
     "outputs": [
      {
       "output_type": "stream",
       "stream": "stdout",
       "text": [
        "0.311118868918\n"
       ]
      }
     ],
     "prompt_number": 9
    },
    {
     "cell_type": "code",
     "collapsed": false,
     "input": [
      "L=1\n",
      "x=arange(L/3.,L/2.+.01,.01)\n",
      "P=integrate.trapz(2/L*(sin(2*pi*x/L))**2,x)\n",
      "print P"
     ],
     "language": "python",
     "metadata": {},
     "outputs": [
      {
       "output_type": "stream",
       "stream": "stdout",
       "text": [
        "0.0978466296378\n"
       ]
      }
     ],
     "prompt_number": 10
    },
    {
     "cell_type": "code",
     "collapsed": false,
     "input": [
      "L=1\n",
      "x=arange(L/3.,L/2.+.01,.01)\n",
      "P=integrate.quad(lambda x: 2/L*(sin(pi*x/L))**2,L/3.,L/2.)\n",
      "print P"
     ],
     "language": "python",
     "metadata": {},
     "outputs": [
      {
       "output_type": "stream",
       "stream": "stdout",
       "text": [
        "(0.3044988905221147, 3.380616792304666e-15)\n"
       ]
      }
     ],
     "prompt_number": 11
    },
    {
     "cell_type": "code",
     "collapsed": false,
     "input": [
      "L=1\n",
      "x=arange(L/3.,L/2.+.01,.01)\n",
      "P=integrate.quad(lambda x: 2/L*(sin(2*pi*x/L))**2,L/3.,L/2.)\n",
      "print P"
     ],
     "language": "python",
     "metadata": {},
     "outputs": [
      {
       "output_type": "stream",
       "stream": "stdout",
       "text": [
        "(0.09775055473894274, 1.0852491654105595e-15)\n"
       ]
      }
     ],
     "prompt_number": 12
    },
    {
     "cell_type": "code",
     "collapsed": false,
     "input": [
      "x=arange(0,L,.01)\n",
      "plot(x,2/L*(sin(pi*x/L))**2,label='Ground State')\n",
      "plot(x,2/L*(sin(2*pi*x/L))**2,label='1st excited state')\n",
      "ylim((0,3))\n",
      "legend()"
     ],
     "language": "python",
     "metadata": {},
     "outputs": [
      {
       "output_type": "pyout",
       "prompt_number": 13,
       "text": [
        "<matplotlib.legend.Legend at 0x32f1dd0>"
       ]
      },
      {
       "output_type": "display_data",
       "png": "[encoded data removed]"
      }
     ],
     "prompt_number": 13
    },
    {
     "cell_type": "markdown",
     "metadata": {},
     "source": [
      "3.\n",
      "="
     ]
    },
    {
     "cell_type": "markdown",
     "metadata": {},
     "source": [
      "(a)"
     ]
    },
    {
     "cell_type": "code",
     "collapsed": false,
     "input": [
      "def H(n,x):\n",
      "    H0=1\n",
      "    H1=2*x\n",
      "    Hn=zeros(n+1,float)\n",
      "    for i in range (n+1):\n",
      "        if n==0:\n",
      "            Hn[0]=H0\n",
      "        elif n==1:\n",
      "            Hn[0]=H0\n",
      "            Hn[1]=H1\n",
      "        elif n>1:\n",
      "            Hn[0]=H0\n",
      "            Hn[1]=H1\n",
      "            if i>=2:\n",
      "                Hn[i]=2*x*Hn[i]-2*i*Hn[i-1]\n",
      "    return Hn"
     ],
     "language": "python",
     "metadata": {},
     "outputs": [],
     "prompt_number": 105
    },
    {
     "cell_type": "code",
     "collapsed": false,
     "input": [
      "from math import *\n",
      "x=arange(-4,4,.1)\n",
      "Psi=lambda n:1/math.sqrt((2**n)*(math.factorial(n))*math.sqrt(pi))*e**(-1*(x**2)/2)*H(n,x)\n",
      "plot(x,Psi(0))"
     ],
     "language": "python",
     "metadata": {},
     "outputs": [
      {
       "output_type": "pyout",
       "prompt_number": 107,
       "text": [
        "[<matplotlib.lines.Line2D at 0x338fad0>]"
       ]
      },
      {
       "output_type": "display_data",
       "png": "[encoded data removed]"
      }
     ],
     "prompt_number": 107
    },
    {
     "cell_type": "code",
     "collapsed": false,
     "input": [],
     "language": "python",
     "metadata": {},
     "outputs": [],
     "prompt_number": 19
    },
    {
     "cell_type": "markdown",
     "metadata": {},
     "source": [
      "(c)"
     ]
    },
    {
     "cell_type": "markdown",
     "metadata": {},
     "source": [
      "4.\n",
      "="
     ]
    },
    {
     "cell_type": "markdown",
     "metadata": {},
     "source": [
      "(a)"
     ]
    },
    {
     "cell_type": "code",
     "collapsed": false,
     "input": [
      "f=lambda x:4.*np.sqrt(1-x**2.)\n",
      "def Approx(N):\n",
      "    xmin=0;xmax=1\n",
      "    subx=x[logical_and((x>xmin),(x<xmax))]\n",
      "    ymax=max(f(subx))*1.05\n",
      "    ymin=0.\n",
      "    samples_x=xmin+(xmax-xmin)*random_sample(N);\n",
      "    samples_y=ymin+(ymax-ymin)*random_sample(N);\n",
      "    newmask=(samples_y < f(samples_x))\n",
      "    sum(newmask)\n",
      "    I=(xmax-xmin)*(ymax-ymin)*sum(newmask)/newmask.size\n",
      "    return I\n",
      "print Approx(10000)"
     ],
     "language": "python",
     "metadata": {},
     "outputs": [
      {
       "output_type": "stream",
       "stream": "stdout",
       "text": [
        "3.12606\n"
       ]
      }
     ],
     "prompt_number": 30
    },
    {
     "cell_type": "markdown",
     "metadata": {},
     "source": [
      "(b)"
     ]
    },
    {
     "cell_type": "code",
     "collapsed": false,
     "input": [
      "print 'Percent error = '+str(abs(Approx(10000)/pi-1)*100)+'%.'"
     ],
     "language": "python",
     "metadata": {},
     "outputs": [
      {
       "output_type": "stream",
       "stream": "stdout",
       "text": [
        "Percent error = 0.0136028587194%.\n"
       ]
      }
     ],
     "prompt_number": 33
    },
    {
     "cell_type": "markdown",
     "metadata": {},
     "source": [
      "(c)"
     ]
    },
    {
     "cell_type": "code",
     "collapsed": false,
     "input": [
      "N=arange(1,10**4,100)\n",
      "plot(N,abs(Approx(N)/pi-1)*100)"
     ],
     "language": "python",
     "metadata": {},
     "outputs": [],
     "prompt_number": 109
    },
    {
     "cell_type": "markdown",
     "metadata": {},
     "source": [
      "(d)"
     ]
    },
    {
     "cell_type": "code",
     "collapsed": false,
     "input": [
      "f=lambda x:4.*np.sqrt(1-x**2.)\n",
      "xmin=0;xmax=1\n",
      "N=10000.\n",
      "samples_x=xmin+(xmax-xmin)*random_sample(N);\n",
      "I1=(xmax-xmin)/N*sum(f(samples_x))\n",
      "print I1"
     ],
     "language": "python",
     "metadata": {},
     "outputs": [
      {
       "output_type": "stream",
       "stream": "stdout",
       "text": [
        "3.1446664227\n"
       ]
      }
     ],
     "prompt_number": 57
    },
    {
     "cell_type": "code",
     "collapsed": false,
     "input": [
      "print 'Percent error = '+str(abs(I1/pi-1)*100)+'%.'"
     ],
     "language": "python",
     "metadata": {},
     "outputs": [
      {
       "output_type": "stream",
       "stream": "stdout",
       "text": [
        "Percent error = 0.0978411096026%.\n"
       ]
      }
     ],
     "prompt_number": 58
    },
    {
     "cell_type": "markdown",
     "metadata": {},
     "source": [
      "A sample size of N>10000 is enough to approximate our function to two decimal places."
     ]
    },
    {
     "cell_type": "markdown",
     "metadata": {},
     "source": [
      "5.\n",
      "="
     ]
    },
    {
     "cell_type": "markdown",
     "metadata": {},
     "source": [
      "(a)"
     ]
    },
    {
     "cell_type": "code",
     "collapsed": false,
     "input": [
      "Rho=lambda y,z:100*((y+.1)+z**2)\n",
      "l=.2;w=.2;h=1.\n",
      "N=10**4\n",
      "x=l*random_sample(N);y=w*random_sample(N);z=h*random_sample(N)\n",
      "M=l*w*h/N*sum(Rho(y,z))\n",
      "Rcm=[Xcm,Ycm,Zcm]=[l*w*h/N*sum(x*Rho(y,z)),l*w*h/N*sum(y*Rho(y,z)),l*w*h/N*sum(z*Rho(y,z))]\n",
      "Icm=l*w*h/N*sum(np.sqrt((x-Xcm)**2+(y-Ycm)**2+(z-Zcm)**2)**2*Rho(y,z))\n",
      "print \"M = \"+str(M)\n",
      "print \"CM = \"+str(Rcm)\n",
      "print \"Icm = \"+str(Icm)"
     ],
     "language": "python",
     "metadata": {},
     "outputs": [
      {
       "output_type": "stream",
       "stream": "stdout",
       "text": [
        "M = 2.135916895\n",
        "CM = [0.21380707932749041, 0.22512617215170042, 1.404382523154228]\n",
        "Icm = 1.41083388481\n"
       ]
      }
     ],
     "prompt_number": 88
    },
    {
     "cell_type": "markdown",
     "metadata": {},
     "source": [
      "(b)"
     ]
    },
    {
     "cell_type": "code",
     "collapsed": false,
     "input": [
      "#Using a mass density equal to 1.\n",
      "Rho=1.\n",
      "l=.2;w=.2;h=1.\n",
      "N=10**4\n",
      "x=l*random_sample(N);y=w*random_sample(N);z=h*random_sample(N)\n",
      "M=l*w*h*Rho\n",
      "Rcm=[Xcm,Ycm,Zcm]=[1./N*sum(x*Rho),1./N*sum(y*Rho),1./N*sum(z*Rho)]\n",
      "Icm=l*w*h/N*sum(np.sqrt((x-Xcm)**2+(y-Ycm)**2+(z-Zcm)**2)**2*Rho)\n",
      "print \"M = \"+str(M)\n",
      "print \"CM = \"+str(Rcm)\n",
      "print \"Icm = \"+str(Icm)"
     ],
     "language": "python",
     "metadata": {},
     "outputs": [
      {
       "output_type": "stream",
       "stream": "stdout",
       "text": [
        "M = 0.04\n",
        "CM = [0.10058330407519478, 0.10005339389010542, 0.503122066910623]\n",
        "Icm = 0.00361034491139\n"
       ]
      }
     ],
     "prompt_number": 91
    },
    {
     "cell_type": "markdown",
     "metadata": {},
     "source": [
      "(c)"
     ]
    },
    {
     "cell_type": "code",
     "collapsed": false,
     "input": [
      "# The results are printed with 17 significant figures, where \n",
      "# 3-4 would be more reasonable\n",
      "print \"M = \"+str(round(M,2))\n",
      "print \"CM = \"+str(np.round(Rcm,3))\n",
      "print \"Icm = \"+str(round(Icm,4))"
     ],
     "language": "python",
     "metadata": {},
     "outputs": [
      {
       "output_type": "stream",
       "stream": "stdout",
       "text": [
        "M = 0.04\n",
        "CM = [ 0.101  0.1    0.503]\n",
        "Icm = 0.0036\n"
       ]
      }
     ],
     "prompt_number": 96
    },
    {
     "cell_type": "code",
     "collapsed": false,
     "input": [],
     "language": "python",
     "metadata": {},
     "outputs": []
    }
   ],
   "metadata": {}
  }
 ]
}