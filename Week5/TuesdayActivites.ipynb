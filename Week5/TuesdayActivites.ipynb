{
 "metadata": {
  "name": "TuesdayActivites"
 },
 "nbformat": 3,
 "nbformat_minor": 0,
 "worksheets": [
  {
   "cells": [
    {
     "cell_type": "markdown",
     "metadata": {},
     "source": [
      "Example 1:\n",
      "="
     ]
    },
    {
     "cell_type": "code",
     "collapsed": false,
     "input": [
      "f = lambda x: x**4-2*x+1"
     ],
     "language": "python",
     "metadata": {},
     "outputs": [],
     "prompt_number": 1
    },
    {
     "cell_type": "code",
     "collapsed": false,
     "input": [
      "N=10\n",
      "a=0.0\n",
      "b=2.0\n",
      "h=(b-a)/N\n",
      "s=.5*f(a)+.5*f(b)\n",
      "for k in range(1,N):\n",
      "    s += f(a+k*h)\n",
      "print (h*s)\n",
      "#correct answer is 4.4, off by 2%"
     ],
     "language": "python",
     "metadata": {},
     "outputs": [
      {
       "output_type": "stream",
       "stream": "stdout",
       "text": [
        "4.50656\n"
       ]
      }
     ],
     "prompt_number": 4
    },
    {
     "cell_type": "markdown",
     "metadata": {},
     "source": [
      "Exercise 1:\n",
      "="
     ]
    },
    {
     "cell_type": "code",
     "collapsed": false,
     "input": [
      "N=100\n",
      "a=0.0\n",
      "b=2.0\n",
      "h=(b-a)/N\n",
      "s=.5*f(a)+.5*f(b)\n",
      "for k in range(1,N):\n",
      "    s += f(a+k*h)\n",
      "print (h*s)"
     ],
     "language": "python",
     "metadata": {},
     "outputs": [
      {
       "output_type": "stream",
       "stream": "stdout",
       "text": [
        "4.401066656\n"
       ]
      }
     ],
     "prompt_number": 5
    },
    {
     "cell_type": "code",
     "collapsed": false,
     "input": [
      "N=1000\n",
      "a=0.0\n",
      "b=2.0\n",
      "h=(b-a)/N\n",
      "s=.5*f(a)+.5*f(b)\n",
      "for k in range(1,N):\n",
      "    s += f(a+k*h)\n",
      "print (h*s)\n",
      "print (h*s)/4.4-1"
     ],
     "language": "python",
     "metadata": {},
     "outputs": [
      {
       "output_type": "stream",
       "stream": "stdout",
       "text": [
        "4.40001066667\n",
        "2.42424218189e-06\n"
       ]
      }
     ],
     "prompt_number": 25
    },
    {
     "cell_type": "markdown",
     "metadata": {},
     "source": [
      "Increasing the value of N better approximates the area under the curve."
     ]
    },
    {
     "cell_type": "code",
     "collapsed": false,
     "input": [
      "N=10\n",
      "a=0.0\n",
      "b=2.0\n",
      "h=(b-a)/N\n",
      "s=f(a)+f(b)\n",
      "s1=0.0\n",
      "s2=0.0\n",
      "for k in range(1,N/2+1):\n",
      "    s1 += f(a+(2*k-1)*h)\n",
      "for l in range(1,N/2):\n",
      "    s2 += f(a+2*l*h)\n",
      "print ((h/3)*(s+4*s1+2*s2))\n",
      "print \"Error is \"+str(((h/3)*(s+4*s1+2*s2))/4.4-1)+\"% off\""
     ],
     "language": "python",
     "metadata": {},
     "outputs": [
      {
       "output_type": "stream",
       "stream": "stdout",
       "text": [
        "4.40042666667\n",
        "Error is 9.69696969697e-05% off\n"
       ]
      }
     ],
     "prompt_number": 21
    },
    {
     "cell_type": "code",
     "collapsed": false,
     "input": [
      "N=100\n",
      "a=0.0\n",
      "b=2.0\n",
      "h=(b-a)/N\n",
      "s=f(a)+f(b)\n",
      "s1=0.0\n",
      "s2=0.0\n",
      "for k in range(1,N/2+1):\n",
      "    s1 += f(a+(2*k-1)*h)\n",
      "for l in range(1,N/2):\n",
      "    s2 += f(a+2*l*h)\n",
      "print ((h/3)*(s+4*s1+2*s2))\n",
      "print \"Error is \"+str(((h/3)*(s+4*s1+2*s2))/4.4-1)+\"% off\""
     ],
     "language": "python",
     "metadata": {},
     "outputs": [
      {
       "output_type": "stream",
       "stream": "stdout",
       "text": [
        "4.40000004267\n",
        "Error is 9.69696989372e-09% off\n"
       ]
      }
     ],
     "prompt_number": 22
    },
    {
     "cell_type": "code",
     "collapsed": false,
     "input": [
      "N=1000\n",
      "a=0.0\n",
      "b=2.0\n",
      "h=(b-a)/N\n",
      "s=f(a)+f(b)\n",
      "s1=0.0\n",
      "s2=0.0\n",
      "for k in range(1,N/2+1):\n",
      "    s1 += f(a+(2*k-1)*h)\n",
      "for l in range(1,N/2):\n",
      "    s2 += f(a+2*l*h)\n",
      "print ((h/3)*(s+4*s1+2*s2))\n",
      "print \"Error is \"+str(((h/3)*(s+4*s1+2*s2))/4.4-1)+\"% off\""
     ],
     "language": "python",
     "metadata": {},
     "outputs": [
      {
       "output_type": "stream",
       "stream": "stdout",
       "text": [
        "4.4\n",
        "Error is 9.69668789708e-13% off\n"
       ]
      }
     ],
     "prompt_number": 23
    },
    {
     "cell_type": "markdown",
     "metadata": {},
     "source": [
      "The results are significantly better than the trapezoid approximation. Using Simpson's rule, we can achieve a result accurate to 7 additional sigfigs in the case where N=1000."
     ]
    },
    {
     "cell_type": "markdown",
     "metadata": {},
     "source": [
      "Adaptive methods and higher order approximations\n",
      "="
     ]
    },
    {
     "cell_type": "markdown",
     "metadata": {},
     "source": [
      "Scipy.integrate\n",
      "-"
     ]
    },
    {
     "cell_type": "code",
     "collapsed": false,
     "input": [
      "import scipy.integrate as integrate\n",
      "#help(integrate)"
     ],
     "language": "python",
     "metadata": {},
     "outputs": [],
     "prompt_number": 5
    },
    {
     "cell_type": "code",
     "collapsed": false,
     "input": [
      "from scipy.special import jv\n",
      "result = integrate.quad(lambda x: jv(2.5,x),0,4.5)\n",
      "print result"
     ],
     "language": "python",
     "metadata": {},
     "outputs": [
      {
       "output_type": "stream",
       "stream": "stdout",
       "text": [
        "(1.1178179380783249, 7.866317182537226e-09)\n"
       ]
      }
     ],
     "prompt_number": 6
    },
    {
     "cell_type": "code",
     "collapsed": false,
     "input": [
      "from scipy.special import fresnel\n",
      "I = sqrt(2/pi)*(18.0/27*sqrt(2)*cos(4.5)-4.0/27*sqrt(2)*sin(4.5)+sqrt(2*pi)*fresnel(3/sqrt(pi))[0])\n",
      "print I"
     ],
     "language": "python",
     "metadata": {},
     "outputs": [
      {
       "output_type": "stream",
       "stream": "stdout",
       "text": [
        "1.11781793809\n"
       ]
      }
     ],
     "prompt_number": 7
    },
    {
     "cell_type": "code",
     "collapsed": false,
     "input": [
      "print abs(result[0]-I)"
     ],
     "language": "python",
     "metadata": {},
     "outputs": [
      {
       "output_type": "stream",
       "stream": "stdout",
       "text": [
        "1.03761443881e-11\n"
       ]
      }
     ],
     "prompt_number": 8
    },
    {
     "cell_type": "markdown",
     "metadata": {},
     "source": [
      "Exercise 3:\n",
      "="
     ]
    },
    {
     "cell_type": "code",
     "collapsed": false,
     "input": [
      "data = loadtxt(\"velocities.txt\",float)\n",
      "t = data[:,0]\n",
      "x = data[:,1]"
     ],
     "language": "python",
     "metadata": {},
     "outputs": [],
     "prompt_number": 17
    },
    {
     "cell_type": "code",
     "collapsed": false,
     "input": [
      "integrate.trapz(x,t)"
     ],
     "language": "python",
     "metadata": {},
     "outputs": [
      {
       "output_type": "pyout",
       "prompt_number": 18,
       "text": [
        "8.218924000000003"
       ]
      }
     ],
     "prompt_number": 18
    },
    {
     "cell_type": "code",
     "collapsed": false,
     "input": [
      "integrate.simps(x,t)"
     ],
     "language": "python",
     "metadata": {},
     "outputs": [
      {
       "output_type": "pyout",
       "prompt_number": 19,
       "text": [
        "8.2226900000000001"
       ]
      }
     ],
     "prompt_number": 19
    },
    {
     "cell_type": "code",
     "collapsed": false,
     "input": [
      "integrate.romb(x,t)"
     ],
     "language": "python",
     "metadata": {},
     "outputs": [
      {
       "ename": "ValueError",
       "evalue": "Number of samples must be one plus a non-negative power of 2.",
       "output_type": "pyerr",
       "traceback": [
        "\u001b[0;31m---------------------------------------------------------------------------\u001b[0m\n\u001b[0;31mValueError\u001b[0m                                Traceback (most recent call last)",
        "\u001b[0;32m<ipython-input-20-850bd4f97a03>\u001b[0m in \u001b[0;36m<module>\u001b[0;34m()\u001b[0m\n\u001b[0;32m----> 1\u001b[0;31m \u001b[0mintegrate\u001b[0m\u001b[0;34m.\u001b[0m\u001b[0mromb\u001b[0m\u001b[0;34m(\u001b[0m\u001b[0mx\u001b[0m\u001b[0;34m,\u001b[0m\u001b[0mt\u001b[0m\u001b[0;34m)\u001b[0m\u001b[0;34m\u001b[0m\u001b[0m\n\u001b[0m",
        "\u001b[0;32m/Library/Frameworks/EPD64.framework/Versions/7.3/lib/python2.7/site-packages/scipy/integrate/quadrature.py\u001b[0m in \u001b[0;36mromb\u001b[0;34m(y, dx, axis, show)\u001b[0m\n\u001b[1;32m    400\u001b[0m         \u001b[0mk\u001b[0m \u001b[0;34m+=\u001b[0m \u001b[0;36m1\u001b[0m\u001b[0;34m\u001b[0m\u001b[0m\n\u001b[1;32m    401\u001b[0m     \u001b[0;32mif\u001b[0m \u001b[0mn\u001b[0m \u001b[0;34m!=\u001b[0m \u001b[0mNinterv\u001b[0m\u001b[0;34m:\u001b[0m\u001b[0;34m\u001b[0m\u001b[0m\n\u001b[0;32m--> 402\u001b[0;31m         raise ValueError(\"Number of samples must be one plus a \"\n\u001b[0m\u001b[1;32m    403\u001b[0m                 \"non-negative power of 2.\")\n\u001b[1;32m    404\u001b[0m \u001b[0;34m\u001b[0m\u001b[0m\n",
        "\u001b[0;31mValueError\u001b[0m: Number of samples must be one plus a non-negative power of 2."
       ]
      }
     ],
     "prompt_number": 20
    },
    {
     "cell_type": "code",
     "collapsed": false,
     "input": [
      "plot(x,t,x,"
     ],
     "language": "python",
     "metadata": {},
     "outputs": []
    }
   ],
   "metadata": {}
  }
 ]
}