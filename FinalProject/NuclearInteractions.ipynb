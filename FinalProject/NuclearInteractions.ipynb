{
 "metadata": {
  "name": "NuclearInteractions"
 },
 "nbformat": 3,
 "nbformat_minor": 0,
 "worksheets": [
  {
   "cells": [
    {
     "cell_type": "markdown",
     "metadata": {},
     "source": [
      "Monte Carlo Glauber Model of Nuclear Interactions\n",
      "="
     ]
    },
    {
     "cell_type": "code",
     "collapsed": false,
     "input": [
      "N=10.\n",
      "R=1.6\n",
      "b=1.1*R*rand(N,1)\n",
      "w={'C':0,'O':-.051,'Al':0,'S':0,'Ca':-.161,'Ni':-.1308,'Cu':0,'W':0,'Au':0,'Pb':0,'U':0}\n",
      "A={'C':12,'O':16,'Al':27,'S':32,'Ca':40,'Ni':58,'Cu':63,'W':186,'Au':197,'Pb':208,'U':238}\n",
      "#R={}\n",
      "#print b\n",
      "#print b[4]\n",
      "#print w['Ni']\n",
      "#print A['Al']"
     ],
     "language": "python",
     "metadata": {},
     "outputs": [],
     "prompt_number": 37
    },
    {
     "cell_type": "code",
     "collapsed": false,
     "input": [],
     "language": "python",
     "metadata": {},
     "outputs": [
      {
       "output_type": "stream",
       "stream": "stdout",
       "text": [
        "[[ 0.2082736 ]\n",
        " [ 1.53853445]\n",
        " [ 0.11214444]\n",
        " [ 0.55503111]\n",
        " [ 1.72270154]\n",
        " [ 0.45461985]\n",
        " [ 0.56070999]\n",
        " [ 0.09345188]\n",
        " [ 0.79706757]\n",
        " [ 1.5804148 ]]\n",
        "[ 1.5804148]\n"
       ]
      }
     ],
     "prompt_number": 22
    },
    {
     "cell_type": "code",
     "collapsed": false,
     "input": [
      "for i in range (0,N+1,1):\n",
      "    "
     ],
     "language": "python",
     "metadata": {},
     "outputs": []
    }
   ],
   "metadata": {}
  }
 ]
}