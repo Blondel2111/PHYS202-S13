{
 "metadata": {
  "name": "ProjectEuler6"
 },
 "nbformat": 3,
 "nbformat_minor": 0,
 "worksheets": [
  {
   "cells": [
    {
     "cell_type": "markdown",
     "metadata": {},
     "source": [
      "Sum square difference\n",
      "====================\n",
      "Problem 6\n",
      "--------------------\n",
      "The sum of the squares of the first ten natural numbers is,\n",
      "\n",
      "1$^2$ + 2$^2$ + ... + 10$^2$ = 385\n",
      "\n",
      "The square of the sum of the first ten natural numbers is,\n",
      "\n",
      "(1 + 2 + ... + 10)$^2$ = 55$^2$ = 3025\n",
      "\n",
      "Hence the difference between the sum of the squares of the first ten natural numbers and the square of the sum is \n",
      "\n",
      "3025 - 385 = 2640.\n",
      "\n",
      "Find the difference between the sum of the squares of the first one hundred natural numbers and the square of the sum."
     ]
    },
    {
     "cell_type": "code",
     "collapsed": false,
     "input": [
      "sqsum=0\n",
      "sumsq=0\n",
      "for i in range(11):\n",
      "    sqsum += i**2\n",
      "    sumsq += i\n",
      "print sqsum\n",
      "print sumsq**2\n",
      "print sumsq**2 - sqsum"
     ],
     "language": "python",
     "metadata": {},
     "outputs": []
    },
    {
     "cell_type": "code",
     "collapsed": false,
     "input": [
      "sqsum=0\n",
      "sumsq=0\n",
      "for i in range(101):\n",
      "    sqsum += i**2\n",
      "    sumsq += i\n",
      "print sqsum\n",
      "print sumsq**2\n",
      "print sumsq**2 - sqsum"
     ],
     "language": "python",
     "metadata": {},
     "outputs": [
      {
       "output_type": "stream",
       "stream": "stdout",
       "text": [
        "338350\n",
        "25502500\n",
        "25164150\n"
       ]
      }
     ],
     "prompt_number": 5
    }
   ],
   "metadata": {}
  }
 ]
}