{
 "metadata": {
  "name": "TuesdayNotes"
 },
 "nbformat": 3,
 "nbformat_minor": 0,
 "worksheets": [
  {
   "cells": [
    {
     "cell_type": "markdown",
     "metadata": {},
     "source": [
      "3d Plotting and Functions\n",
      "="
     ]
    },
    {
     "cell_type": "markdown",
     "metadata": {},
     "source": [
      "Electric dipole potential\n",
      "-\n",
      "$V(x,y)=\\frac{kq}{\\sqrt{x^2+(y-d)^2}}-\\frac{kq}{\\sqrt{x^2+(y+d)^2}}$"
     ]
    },
    {
     "cell_type": "markdown",
     "metadata": {},
     "source": [
      "$k=\\frac{1}{4\\pi\\epsilon_0}$"
     ]
    },
    {
     "cell_type": "code",
     "collapsed": false,
     "input": [
      "dx=.06\n",
      "dy=.06\n",
      "x=arange(-2.,2.,dx)\n",
      "y=arange(-2.,2.,dy)\n",
      "\n",
      "X,Y=meshgrid(x,y)\n",
      "print X.ndim\n",
      "print Y.shape\n",
      "print Y\n",
      "\n",
      "k=1; q=1; d=1\n",
      "V=(k*q/(X**2+(Y-d)**2)**(1/2.))-(k*q/(X**2+(Y+d)**2)**(1/2.))\n",
      "print V"
     ],
     "language": "python",
     "metadata": {},
     "outputs": [
      {
       "output_type": "stream",
       "stream": "stdout",
       "text": [
        "2\n",
        "(67, 67)\n",
        "[[-2.   -2.   -2.   ..., -2.   -2.   -2.  ]\n",
        " [-1.94 -1.94 -1.94 ..., -1.94 -1.94 -1.94]\n",
        " [-1.88 -1.88 -1.88 ..., -1.88 -1.88 -1.88]\n",
        " ..., \n",
        " [ 1.84  1.84  1.84 ...,  1.84  1.84  1.84]\n",
        " [ 1.9   1.9   1.9  ...,  1.9   1.9   1.9 ]\n",
        " [ 1.96  1.96  1.96 ...,  1.96  1.96  1.96]]\n",
        "[[-0.1698635  -0.17826925 -0.18715865 ..., -0.19336737 -0.18414007\n",
        "  -0.17541494]\n",
        " [-0.17127992 -0.17998007 -0.18920149 ..., -0.19565471 -0.18606779\n",
        "  -0.17702367]\n",
        " [-0.17245961 -0.18144664 -0.19099347 ..., -0.19768747 -0.18774672\n",
        "  -0.17839056]\n",
        " ..., \n",
        " [ 0.17310174  0.18227437  0.19203282 ...,  0.19888408  0.18871243\n",
        "   0.17915368]\n",
        " [ 0.17209427  0.1809867   0.19042599 ...,  0.19704029  0.18721662\n",
        "   0.1779635 ]\n",
        " [ 0.17083282  0.17943553  0.18854686 ...,  0.19491887  0.18545135\n",
        "   0.17651294]]\n"
       ]
      }
     ],
     "prompt_number": 9
    },
    {
     "cell_type": "code",
     "collapsed": false,
     "input": [
      "from mpl_toolkits.mplot3d import Axes3D\n",
      "fig=figure()\n",
      "ax=fig.gca(projection='3d')\n",
      "p=ax.plot_surface(X,Y,V,rstride=1,castride=1,linewidth=0,cmap=cm.RdYlBu)\n",
      "#help(Axes3D.plot_surface)\n",
      "#help(figure)"
     ],
     "language": "python",
     "metadata": {},
     "outputs": [
      {
       "output_type": "stream",
       "stream": "stdout",
       "text": [
        "Help on method plot_surface in module mpl_toolkits.mplot3d.axes3d:\n",
        "\n",
        "plot_surface(self, X, Y, Z, *args, **kwargs) unbound mpl_toolkits.mplot3d.axes3d.Axes3D method\n",
        "    Create a surface plot.\n",
        "    \n",
        "    By default it will be colored in shades of a solid color,\n",
        "    but it also supports color mapping by supplying the *cmap*\n",
        "    argument.\n",
        "    \n",
        "    ==========  ================================================\n",
        "    Argument    Description\n",
        "    ==========  ================================================\n",
        "    *X*, *Y*,   Data values as numpy.arrays\n",
        "    *Z*\n",
        "    *rstride*   Array row stride (step size)\n",
        "    *cstride*   Array column stride (step size)\n",
        "    *color*     Color of the surface patches\n",
        "    *cmap*      A colormap for the surface patches.\n",
        "    ==========  ================================================\n",
        "\n",
        "Help on function figure in module matplotlib.pyplot:\n",
        "\n",
        "figure(num=None, figsize=None, dpi=None, facecolor=None, edgecolor=None, frameon=True, FigureClass=<class 'matplotlib.figure.Figure'>, **kwargs)\n",
        "    call signature::\n",
        "    \n",
        "      figure(num=None, figsize=(8, 6), dpi=80, facecolor='w', edgecolor='k')\n",
        "    \n",
        "    \n",
        "    Create a new figure and return a :class:`matplotlib.figure.Figure`\n",
        "    instance.  If *num* = *None*, the figure number will be incremented and\n",
        "    a new figure will be created.  The returned figure objects have a\n",
        "    *number* attribute holding this number.\n",
        "    \n",
        "    If *num* is an integer, and ``figure(num)`` already exists, make it\n",
        "    active and return a reference to it.  If ``figure(num)`` does not exist\n",
        "    it will be created.  Numbering starts at 1, matlab style::\n",
        "    \n",
        "      figure(1)\n",
        "    \n",
        "    If you are creating many figures, make sure you explicitly call \"close\"\n",
        "    on the figures you are not using, because this will enable pylab\n",
        "    to properly clean up the memory.\n",
        "    \n",
        "    Optional keyword arguments:\n",
        "    \n",
        "      =========   =======================================================\n",
        "      Keyword     Description\n",
        "      =========   =======================================================\n",
        "      figsize     width x height in inches; defaults to rc figure.figsize\n",
        "      dpi         resolution; defaults to rc figure.dpi\n",
        "      facecolor   the background color; defaults to rc figure.facecolor\n",
        "      edgecolor   the border color; defaults to rc figure.edgecolor\n",
        "      =========   =======================================================\n",
        "    \n",
        "    rcParams defines the default values, which can be modified in the\n",
        "    matplotlibrc file\n",
        "    \n",
        "    *FigureClass* is a :class:`~matplotlib.figure.Figure` or derived\n",
        "    class that will be passed on to :meth:`new_figure_manager` in the\n",
        "    backends which allows you to hook custom Figure classes into the\n",
        "    pylab interface.  Additional kwargs will be passed on to your\n",
        "    figure init function.\n",
        "\n"
       ]
      },
      {
       "output_type": "display_data",
       "png": "[encoded data removed]"
      }
     ],
     "prompt_number": 18
    },
    {
     "cell_type": "code",
     "collapsed": false,
     "input": [],
     "language": "python",
     "metadata": {},
     "outputs": [],
     "prompt_number": 14
    },
    {
     "cell_type": "code",
     "collapsed": false,
     "input": [],
     "language": "python",
     "metadata": {},
     "outputs": []
    }
   ],
   "metadata": {}
  }
 ]
}