{
 "metadata": {
  "name": "ProjectEuler19"
 },
 "nbformat": 3,
 "nbformat_minor": 0,
 "worksheets": [
  {
   "cells": [
    {
     "cell_type": "markdown",
     "metadata": {},
     "source": [
      "Counting Sundays\n",
      "="
     ]
    },
    {
     "cell_type": "code",
     "collapsed": false,
     "input": [
      "Year=1901 #Enter starting year\n",
      "YearEnd=2000 #Enter year to check through (inclusive)\n",
      "\n",
      "\n",
      "YCheck = Year\n",
      "DMonth=0 #Day of the month\n",
      "Day=0 #Days since Jan 1st, 1900. Note that any day(+1) evenly divisble by a 7 is a sunday since day 0 was a monday.\n",
      "GMonth=0 #Month of the year\n",
      "DaysM=0 #days in specified month\n",
      "SunOn1=0 #number of sundays that have been on the first of the month\n",
      "\n",
      "\n",
      "for m in range(1900,YearEnd+1,1):\n",
      "    #Loops through the years\n",
      "    for i in range(0,12,1):\n",
      "        #Loops through the months\n",
      "        \n",
      "        #Check to see how many days are in the month the loop is currently in\n",
      "        if GMonth==0 or GMonth==2 or GMonth==4 or GMonth==6 or GMonth==7 or GMonth==9 or GMonth==11:\n",
      "            DaysM=31\n",
      "        elif GMonth==3 or GMonth==5 or GMonth==8 or GMonth==10:\n",
      "            DaysM=30\n",
      "            \n",
      "        #Ermahgerd! Leap Years!\n",
      "        elif GMonth==1 and m%4==0 and (m%100!=0 or m%400==0):\n",
      "            DaysM=29\n",
      "        else:\n",
      "            DaysM=28\n",
      "        \n",
      "        for l in range(0,DaysM,1):\n",
      "            #Loops through the days in a given month\n",
      "            \n",
      "            #Check to see if it is the first day of the month and if it is a sunday\n",
      "            if (DMonth)==0 and (Day+1)%7==0 and m>=YCheck:\n",
      "                SunOn1+=1\n",
      "                \n",
      "            #Days turn into months\n",
      "            DMonth+=1\n",
      "            Day+=1\n",
      "            if DMonth==DaysM:\n",
      "                DMonth=0\n",
      "                GMonth+=1\n",
      "            if GMonth==12:\n",
      "                GMonth=0\n",
      "        \n",
      "    else:\n",
      "        #Months turn into years\n",
      "        Year+=1\n",
      "print \"There have been \"+str(SunOn1)+\" Sundays that have occured on the first day of the month from Jan. 1st, \"+str(YCheck)+\", to Dec. 31st, \"+str(YearEnd)\n"
     ],
     "language": "python",
     "metadata": {},
     "outputs": [
      {
       "output_type": "stream",
       "stream": "stdout",
       "text": [
        "There have been 171 Sundays that have occured on the first day of the month from Jan. 1st, 1901, to Dec. 31st, 2000\n"
       ]
      }
     ],
     "prompt_number": 53
    },
    {
     "cell_type": "code",
     "collapsed": false,
     "input": [],
     "language": "python",
     "metadata": {},
     "outputs": []
    }
   ],
   "metadata": {}
  }
 ]
}