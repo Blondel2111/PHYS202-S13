{
 "metadata": {
  "name": "ProjectEuler25"
 },
 "nbformat": 3,
 "nbformat_minor": 0,
 "worksheets": [
  {
   "cells": [
    {
     "cell_type": "markdown",
     "metadata": {},
     "source": [
      "1000-digit Fibonacci number\n",
      "=\n",
      "Problem 25\n",
      "-\n",
      "The Fibonacci sequence is defined by the recurrence relation:\n",
      "\n",
      "F$_n$ = F$_{n-1}$ + F$_{n-2}$ , where F$_1$ = 1 and F$_2$ = 1.\n",
      "\n",
      "Hence the first 12 terms will be:\n",
      "\n",
      "F$_1$ = 1\n",
      "\n",
      "F$_2$ = 1\n",
      "\n",
      "F$_3$ = 2\n",
      "\n",
      "F$_4$ = 3\n",
      "\n",
      "F$_5$ = 5\n",
      "\n",
      "F$_6$ = 8\n",
      "\n",
      "F$_7$ = 13\n",
      "\n",
      "F$_8$ = 21\n",
      "\n",
      "F$_9$ = 34\n",
      "\n",
      "F$_{10}$ = 55\n",
      "\n",
      "F$_{11}$ = 89\n",
      "\n",
      "F$_{12}$ = 144\n",
      "\n",
      "The 12th term, F$_{12}$, is the first term to contain three digits.\n",
      "\n",
      "What is the first term in the Fibonacci sequence to contain 1000 digits?"
     ]
    },
    {
     "cell_type": "code",
     "collapsed": false,
     "input": [
      "f=[1,1] #setting first two fibonacci numbers\n",
      "n=2 #used for while loop\n",
      "\n",
      "#Use while loop to implement recursion relation until a 1000 digit number is reached\n",
      "while len(str(f[n-1])) < 1000:\n",
      "    f.append(f[n-1]+f[n-2])\n",
      "    n+=1\n",
      "else:\n",
      "    #When loop ends (i.e. a number with 1000 digits is reached), print the term of that number\n",
      "    print \"The first fibonacci number with 1000 digits is term number\",str(n)\n",
      "print f[0:12] #test first 12 fibonacci numbers"
     ],
     "language": "python",
     "metadata": {},
     "outputs": [
      {
       "output_type": "stream",
       "stream": "stdout",
       "text": [
        "The first fibonacci number with 1000 digits is term number 4782\n",
        "[1, 1, 2, 3, 5, 8, 13, 21, 34, 55, 89, 144]\n"
       ]
      }
     ],
     "prompt_number": 40
    },
    {
     "cell_type": "code",
     "collapsed": false,
     "input": [],
     "language": "python",
     "metadata": {},
     "outputs": []
    }
   ],
   "metadata": {}
  }
 ]
}