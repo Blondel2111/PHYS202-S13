{
 "metadata": {
  "name": "EulersMethod"
 },
 "nbformat": 3,
 "nbformat_minor": 0,
 "worksheets": [
  {
   "cells": [
    {
     "cell_type": "markdown",
     "metadata": {},
     "source": [
      "Example 1\n",
      "-"
     ]
    },
    {
     "cell_type": "code",
     "collapsed": false,
     "input": [
      "a=-9.8 #m/s^2\n",
      "n=100\n",
      "t=10.\n",
      "v=zeros(n+1,float)\n",
      "r=zeros(n+1,float)\n",
      "for i in range(n):\n",
      "    v[i+1]=v[i]+a*t/n\n",
      "    r[i+1]=r[i]+v[i]*t/n\n",
      "#print v[i+1]\n",
      "print \"Euler method:\",str(r[i+1])\n",
      "print \"Actual:\",str(.5*-9.8*100)"
     ],
     "language": "python",
     "metadata": {},
     "outputs": [
      {
       "output_type": "stream",
       "stream": "stdout",
       "text": [
        "Euler method: -485.1\n",
        "Actual: -490.0\n"
       ]
      }
     ],
     "prompt_number": 44
    },
    {
     "cell_type": "markdown",
     "metadata": {},
     "source": [
      "Exercise 1:\n",
      "-"
     ]
    },
    {
     "cell_type": "markdown",
     "metadata": {},
     "source": [
      "(a)"
     ]
    },
    {
     "cell_type": "code",
     "collapsed": false,
     "input": [
      "d2ydx2=2\n",
      "x=2\n",
      "n=x/.25\n",
      "dydx=zeros(n+1,float)\n",
      "y=zeros(n+1,float)\n",
      "for i in range(int(n)):\n",
      "    dydx[i+1]=dydx[i]+d2ydx2*x/n\n",
      "    y[i+1]=y[i]+dydx[i]*x/n\n",
      "print y[4]"
     ],
     "language": "python",
     "metadata": {},
     "outputs": [
      {
       "output_type": "stream",
       "stream": "stdout",
       "text": [
        "0.75\n"
       ]
      }
     ],
     "prompt_number": 61
    },
    {
     "cell_type": "code",
     "collapsed": false,
     "input": [
      "d2ydx2=2\n",
      "x=2\n",
      "Pn=x/.02\n",
      "Pdydx=zeros(Pn+1,float)\n",
      "Py=zeros(Pn+1,float)\n",
      "for i in range(int(Pn)):\n",
      "    Pdydx[i+1]=Pdydx[i]+d2ydx2*x/Pn\n",
      "    Py[i+1]=Py[i]+Pdydx[i]*x/Pn\n",
      "print Py[50]"
     ],
     "language": "python",
     "metadata": {},
     "outputs": [
      {
       "output_type": "stream",
       "stream": "stdout",
       "text": [
        "0.98\n"
       ]
      }
     ],
     "prompt_number": 69
    },
    {
     "cell_type": "markdown",
     "metadata": {},
     "source": [
      "(b)"
     ]
    },
    {
     "cell_type": "code",
     "collapsed": false,
     "input": [
      "x=arange(0,2.01,.01)\n",
      "x1=arange(0,2.25,.25)\n",
      "x2=arange(0,2.02,.02)\n",
      "plot(x,.25*e**(2*x)-.5*x-.25,x1,y,x2,Py)"
     ],
     "language": "python",
     "metadata": {},
     "outputs": [
      {
       "output_type": "pyout",
       "prompt_number": 70,
       "text": [
        "[<matplotlib.lines.Line2D at 0x2f40110>,\n",
        " <matplotlib.lines.Line2D at 0x2f40350>,\n",
        " <matplotlib.lines.Line2D at 0x2f408d0>]"
       ]
      },
      {
       "output_type": "display_data",
       "png": "[encoded data removed]"
      }
     ],
     "prompt_number": 70
    },
    {
     "cell_type": "code",
     "collapsed": false,
     "input": [],
     "language": "python",
     "metadata": {},
     "outputs": []
    }
   ],
   "metadata": {}
  }
 ]
}