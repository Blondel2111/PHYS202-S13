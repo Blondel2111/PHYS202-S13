{
 "metadata": {
  "name": "ThursdayExercises"
 },
 "nbformat": 3,
 "nbformat_minor": 0,
 "worksheets": [
  {
   "cells": [
    {
     "cell_type": "markdown",
     "metadata": {},
     "source": [
      "Exercise 1\n",
      "-"
     ]
    },
    {
     "cell_type": "code",
     "collapsed": false,
     "input": [
      "print .25*e**2-.25\n",
      "xa=arange(0,1.75,.25)\n",
      "ya=zeros(xa.shape,float)\n",
      "va=zeros(xa.shape,float)\n",
      "a=1\n",
      "#v=x+2*y\n",
      "va[0]=0.\n",
      "ya[0]=0.\n",
      "for n in range(len(xa)-1):\n",
      "    va[n+1]=va[n]+a*(xa[n+1]-xa[n])\n",
      "    #print va[n]\n",
      "    ya[n+1]=ya[n]+va[n]*(xa[n+1]-xa[n])\n",
      "    if xa[n]==1:\n",
      "        print ya[n]"
     ],
     "language": "python",
     "metadata": {},
     "outputs": [
      {
       "output_type": "stream",
       "stream": "stdout",
       "text": [
        "1.59726402473\n",
        "0.375\n"
       ]
      }
     ],
     "prompt_number": 44
    },
    {
     "cell_type": "code",
     "collapsed": false,
     "input": [
      "xb=arange(0,1.5,.001)\n",
      "yb=zeros(xb.shape,float)\n",
      "vb=zeros(xb.shape,float)\n",
      "a=1\n",
      "#v=x+2*y\n",
      "vb[0]=0.\n",
      "yb[0]=0.\n",
      "for n in range(len(xb)-1):\n",
      "    vb[n+1]=vb[n]+a*(xb[n+1]-xb[n])\n",
      "    #print v[n]\n",
      "    yb[n+1]=yb[n]+vb[n]*(xb[n+1]-xb[n])\n",
      "    if xb[n]==1:\n",
      "        print yb[n]"
     ],
     "language": "python",
     "metadata": {},
     "outputs": [
      {
       "output_type": "stream",
       "stream": "stdout",
       "text": [
        "0.4995\n"
       ]
      }
     ],
     "prompt_number": 45
    },
    {
     "cell_type": "code",
     "collapsed": false,
     "input": [
      "x=arange(0,1.5,.01)\n",
      "plot(xa,ya,xb,yb,x,.25*e**(2*x)-.5*x-.25)"
     ],
     "language": "python",
     "metadata": {},
     "outputs": [
      {
       "output_type": "pyout",
       "prompt_number": 46,
       "text": [
        "[<matplotlib.lines.Line2D at 0x10a8f2250>,\n",
        " <matplotlib.lines.Line2D at 0x10a8f2350>,\n",
        " <matplotlib.lines.Line2D at 0x10a8f2850>]"
       ]
      },
      {
       "output_type": "display_data",
       "png": "[encoded data removed]"
      }
     ],
     "prompt_number": 46
    },
    {
     "cell_type": "markdown",
     "metadata": {},
     "source": [
      "Example 1\n",
      "-"
     ]
    },
    {
     "cell_type": "code",
     "collapsed": false,
     "input": [
      "t=arange(0,10.1,.11)\n",
      "r=zeros(t.shape,float)\n",
      "v=zeros(t.shape,float)\n",
      "#a=zeros(t.shape,float)\n",
      "a=-9.8\n",
      "#v[1]=v[0]+a*(t[1]-t[0])\n",
      "#r[1]=r[0]+v[0]*(t[1]-t[0])\n",
      "#print len(t)\n",
      "for n in range(len(t)-1):\n",
      "    v[n+1]=v[n]+a*(t[n+1]-t[n])\n",
      "    #print v[n]\n",
      "for m in range(len(t)-1):\n",
      "    r[m+1]=r[m]+v[m]*(t[m+1]-t[m])\n",
      "    #print r[m]\n"
     ],
     "language": "python",
     "metadata": {},
     "outputs": [],
     "prompt_number": 53
    },
    {
     "cell_type": "code",
     "collapsed": false,
     "input": [],
     "language": "python",
     "metadata": {},
     "outputs": []
    }
   ],
   "metadata": {}
  }
 ]
}