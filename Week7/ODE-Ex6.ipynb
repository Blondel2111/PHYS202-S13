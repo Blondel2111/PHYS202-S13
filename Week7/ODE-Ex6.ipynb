{
 "metadata": {
  "name": "ODE-Ex6"
 },
 "nbformat": 3,
 "nbformat_minor": 0,
 "worksheets": [
  {
   "cells": [
    {
     "cell_type": "markdown",
     "metadata": {},
     "source": [
      "Example 1\n",
      "-"
     ]
    },
    {
     "cell_type": "code",
     "collapsed": false,
     "input": [
      "a=-9.8 #m/s^2\n",
      "n=100\n",
      "t=10.\n",
      "v=zeros(n+1,float)\n",
      "r=zeros(n+1,float)\n",
      "for i in range(n):\n",
      "    v[i+1]=v[i]+a*t/n\n",
      "    r[i+1]=r[i]+v[i]*t/n\n",
      "#print v[i+1]\n",
      "print \"Euler method:\",str(r[i+1])\n",
      "print \"Actual:\",str(.5*-9.8*100)"
     ],
     "language": "python",
     "metadata": {},
     "outputs": [
      {
       "output_type": "stream",
       "stream": "stdout",
       "text": [
        "Euler method: -485.1\n",
        "Actual: -490.0\n"
       ]
      }
     ],
     "prompt_number": 44
    },
    {
     "cell_type": "markdown",
     "metadata": {},
     "source": [
      "Exercise 1:\n",
      "-"
     ]
    },
    {
     "cell_type": "markdown",
     "metadata": {},
     "source": [
      "(a)"
     ]
    },
    {
     "cell_type": "code",
     "collapsed": false,
     "input": [
      "x=2\n",
      "n=x/.25\n",
      "dydx=zeros(n+1,float)\n",
      "d2ydx2=zeros(n+1,float)\n",
      "#d2ydx2=2+2*dydx\n",
      "y=zeros(n+1,float)\n",
      "for i in range(int(n)):\n",
      "    d2ydx2[i+1]=2+2*dydx[i]\n",
      "    dydx[i+1]=dydx[i]+d2ydx2[i]*x/n\n",
      "    y[i+1]=y[i]+dydx[i]*x/n\n",
      "print y[4]"
     ],
     "language": "python",
     "metadata": {},
     "outputs": [
      {
       "output_type": "stream",
       "stream": "stdout",
       "text": [
        "0.375\n"
       ]
      }
     ],
     "prompt_number": 5
    },
    {
     "cell_type": "code",
     "collapsed": false,
     "input": [
      "x=2\n",
      "Pn=x/.02\n",
      "Pdydx=zeros(Pn+1,float)\n",
      "Pd2ydx2=zeros(Pn+1,float)\n",
      "Py=zeros(Pn+1,float)\n",
      "for i in range(int(Pn)):\n",
      "    Pd2ydx2[i+1]=2+2*Pdydx[i]\n",
      "    Pdydx[i+1]=Pdydx[i]+Pd2ydx2[i]*x/Pn\n",
      "    Py[i+1]=Py[i]+Pdydx[i]*x/Pn\n",
      "print Py[50]"
     ],
     "language": "python",
     "metadata": {},
     "outputs": [
      {
       "output_type": "stream",
       "stream": "stdout",
       "text": [
        "1.81312211375\n"
       ]
      }
     ],
     "prompt_number": 11
    },
    {
     "cell_type": "markdown",
     "metadata": {},
     "source": [
      "(b)"
     ]
    },
    {
     "cell_type": "code",
     "collapsed": false,
     "input": [
      "x=arange(0,2.01,.01)\n",
      "x1=arange(0,2.25,.25)\n",
      "x2=arange(0,2.02,.02)\n",
      "plot(x,.25*e**(2*x)-.5*x-.25,label='Actual',lw=2)\n",
      "plot(x1,y,label='Steps of 0.25')\n",
      "plot(x2,Py,label='Steps of .02')\n",
      "legend(loc='upper left')"
     ],
     "language": "python",
     "metadata": {},
     "outputs": [
      {
       "output_type": "pyout",
       "prompt_number": 16,
       "text": [
        "<matplotlib.legend.Legend at 0x4b802d0>"
       ]
      },
      {
       "output_type": "display_data",
       "png": "[encoded data removed]"
      }
     ],
     "prompt_number": 16
    },
    {
     "cell_type": "markdown",
     "metadata": {},
     "source": [
      "Steps of .02 gives slightly more accurate results."
     ]
    },
    {
     "cell_type": "markdown",
     "metadata": {},
     "source": [
      "(c)"
     ]
    },
    {
     "cell_type": "code",
     "collapsed": false,
     "input": [
      "#Euler-Cromer\n",
      "x=2\n",
      "n=x/.25\n",
      "dydx=zeros(n+1,float)\n",
      "d2ydx2=zeros(n+1,float)\n",
      "y=zeros(n+1,float)\n",
      "for i in range(int(n)):\n",
      "    d2ydx2[i+1]=2+2*dydx[i]\n",
      "    dydx[i+1]=dydx[i]+d2ydx2[i]*x/n\n",
      "    y[i+1]=y[i]+dydx[i+1]*x/n"
     ],
     "language": "python",
     "metadata": {},
     "outputs": [],
     "prompt_number": 8
    },
    {
     "cell_type": "code",
     "collapsed": false,
     "input": [
      "x=2\n",
      "Pn=x/.02\n",
      "Pdydx=zeros(Pn+1,float)\n",
      "Pd2ydx2=zeros(Pn+1,float)\n",
      "Py=zeros(Pn+1,float)\n",
      "for i in range(int(Pn)):\n",
      "    Pd2ydx2[i+1]=2+2*Pdydx[i]\n",
      "    Pdydx[i+1]=Pdydx[i]+Pd2ydx2[i]*x/Pn\n",
      "    Py[i+1]=Py[i]+Pdydx[i+1]*x/Pn"
     ],
     "language": "python",
     "metadata": {},
     "outputs": [],
     "prompt_number": 9
    },
    {
     "cell_type": "code",
     "collapsed": false,
     "input": [
      "x=arange(0,2.01,.01)\n",
      "x1=arange(0,2.25,.25)\n",
      "x2=arange(0,2.02,.02)\n",
      "plot(x,.25*e**(2*x)-.5*x-.25,label='Actual',lw=2)\n",
      "plot(x1,y,label='Steps of 0.25')\n",
      "plot(x2,Py,label='Steps of .02')\n",
      "legend(loc='upper left')"
     ],
     "language": "python",
     "metadata": {},
     "outputs": [
      {
       "output_type": "pyout",
       "prompt_number": 4,
       "text": [
        "<matplotlib.legend.Legend at 0x2e99b50>"
       ]
      },
      {
       "output_type": "display_data",
       "png": "[encoded data removed]"
      }
     ],
     "prompt_number": 4
    },
    {
     "cell_type": "code",
     "collapsed": false,
     "input": [
      "x=arange(0,2.01,.01)\n",
      "x1=arange(0,2.25,.25)\n",
      "x2=arange(0,2.02,.02)\n",
      "#plot(x,.25*e**(2*x)-.5*x-.25,label='Actual',lw=2)\n",
      "plot(x1,.25*e**(2*x)-.5*x-.25-y,label='Error in .25 steps')\n",
      "plot(x2,Py-.25*e**(2*x)-.5*x-.25,label='Error in .02 steps')\n",
      "legend(loc='upper left')"
     ],
     "language": "python",
     "metadata": {},
     "outputs": [
      {
       "ename": "ValueError",
       "evalue": "shape mismatch: objects cannot be broadcast to a single shape",
       "output_type": "pyerr",
       "traceback": [
        "\u001b[1;31m---------------------------------------------------------------------------\u001b[0m\n\u001b[1;31mValueError\u001b[0m                                Traceback (most recent call last)",
        "\u001b[1;32m<ipython-input-10-de883f39e285>\u001b[0m in \u001b[0;36m<module>\u001b[1;34m()\u001b[0m\n\u001b[0;32m      3\u001b[0m \u001b[0mx2\u001b[0m\u001b[1;33m=\u001b[0m\u001b[0marange\u001b[0m\u001b[1;33m(\u001b[0m\u001b[1;36m0\u001b[0m\u001b[1;33m,\u001b[0m\u001b[1;36m2.02\u001b[0m\u001b[1;33m,\u001b[0m\u001b[1;36m.02\u001b[0m\u001b[1;33m)\u001b[0m\u001b[1;33m\u001b[0m\u001b[0m\n\u001b[0;32m      4\u001b[0m \u001b[1;31m#plot(x,.25*e**(2*x)-.5*x-.25,label='Actual',lw=2)\u001b[0m\u001b[1;33m\u001b[0m\u001b[1;33m\u001b[0m\u001b[0m\n\u001b[1;32m----> 5\u001b[1;33m \u001b[0mplot\u001b[0m\u001b[1;33m(\u001b[0m\u001b[0mx1\u001b[0m\u001b[1;33m,\u001b[0m\u001b[1;36m.25\u001b[0m\u001b[1;33m*\u001b[0m\u001b[0me\u001b[0m\u001b[1;33m**\u001b[0m\u001b[1;33m(\u001b[0m\u001b[1;36m2\u001b[0m\u001b[1;33m*\u001b[0m\u001b[0mx\u001b[0m\u001b[1;33m)\u001b[0m\u001b[1;33m-\u001b[0m\u001b[1;36m.5\u001b[0m\u001b[1;33m*\u001b[0m\u001b[0mx\u001b[0m\u001b[1;33m-\u001b[0m\u001b[1;36m.25\u001b[0m\u001b[1;33m-\u001b[0m\u001b[0my\u001b[0m\u001b[1;33m,\u001b[0m\u001b[0mlabel\u001b[0m\u001b[1;33m=\u001b[0m\u001b[1;34m'Error in .25 steps'\u001b[0m\u001b[1;33m)\u001b[0m\u001b[1;33m\u001b[0m\u001b[0m\n\u001b[0m\u001b[0;32m      6\u001b[0m \u001b[0mplot\u001b[0m\u001b[1;33m(\u001b[0m\u001b[0mx2\u001b[0m\u001b[1;33m,\u001b[0m\u001b[0mPy\u001b[0m\u001b[1;33m-\u001b[0m\u001b[1;36m.25\u001b[0m\u001b[1;33m*\u001b[0m\u001b[0me\u001b[0m\u001b[1;33m**\u001b[0m\u001b[1;33m(\u001b[0m\u001b[1;36m2\u001b[0m\u001b[1;33m*\u001b[0m\u001b[0mx\u001b[0m\u001b[1;33m)\u001b[0m\u001b[1;33m-\u001b[0m\u001b[1;36m.5\u001b[0m\u001b[1;33m*\u001b[0m\u001b[0mx\u001b[0m\u001b[1;33m-\u001b[0m\u001b[1;36m.25\u001b[0m\u001b[1;33m,\u001b[0m\u001b[0mlabel\u001b[0m\u001b[1;33m=\u001b[0m\u001b[1;34m'Error in .02 steps'\u001b[0m\u001b[1;33m)\u001b[0m\u001b[1;33m\u001b[0m\u001b[0m\n\u001b[0;32m      7\u001b[0m \u001b[0mlegend\u001b[0m\u001b[1;33m(\u001b[0m\u001b[0mloc\u001b[0m\u001b[1;33m=\u001b[0m\u001b[1;34m'upper left'\u001b[0m\u001b[1;33m)\u001b[0m\u001b[1;33m\u001b[0m\u001b[0m\n",
        "\u001b[1;31mValueError\u001b[0m: shape mismatch: objects cannot be broadcast to a single shape"
       ]
      }
     ],
     "prompt_number": 10
    },
    {
     "cell_type": "code",
     "collapsed": false,
     "input": [
      "#Midpoint Method\n",
      "x=2\n",
      "n=x/.25\n",
      "dydx=zeros(n+1,float)\n",
      "d2ydx2=zeros(n+1,float)\n",
      "y=zeros(n+1,float)\n",
      "for i in range(int(n)):\n",
      "    d2ydx2[i+1]=2+2*dydx[i]\n",
      "    dydx[i+1]=dydx[i]+d2ydx2[i]*x/n\n",
      "    y[i+1]=y[i]+.5*(dydx[i]+dydx[i+1])*x/n"
     ],
     "language": "python",
     "metadata": {},
     "outputs": [],
     "prompt_number": 11
    },
    {
     "cell_type": "code",
     "collapsed": false,
     "input": [
      "x=2\n",
      "Pn=x/.02\n",
      "Pdydx=zeros(Pn+1,float)\n",
      "Pd2ydx2=zeros(Pn+1,float)\n",
      "Py=zeros(Pn+1,float)\n",
      "for i in range(int(Pn)):\n",
      "    Pd2ydx2[i+1]=2+2*Pdydx[i]\n",
      "    Pdydx[i+1]=Pdydx[i]+Pd2ydx2[i]*x/Pn\n",
      "    Py[i+1]=Py[i]+.5*(Pdydx[i]+Pdydx[i+1])*x/Pn"
     ],
     "language": "python",
     "metadata": {},
     "outputs": [],
     "prompt_number": 12
    },
    {
     "cell_type": "code",
     "collapsed": false,
     "input": [
      "x=arange(0,2.01,.01)\n",
      "x1=arange(0,2.25,.25)\n",
      "x2=arange(0,2.02,.02)\n",
      "plot(x,.25*e**(2*x)-.5*x-.25,label='Actual',lw=2)\n",
      "plot(x1,y,label='Steps of 0.25')\n",
      "plot(x2,Py,label='Steps of .02')\n",
      "legend(loc='upper left')"
     ],
     "language": "python",
     "metadata": {},
     "outputs": [
      {
       "output_type": "pyout",
       "prompt_number": 13,
       "text": [
        "<matplotlib.legend.Legend at 0x115ab10>"
       ]
      },
      {
       "output_type": "display_data",
       "png": "[encoded data removed]"
      }
     ],
     "prompt_number": 13
    },
    {
     "cell_type": "code",
     "collapsed": false,
     "input": [
      "x=arange(0,2.01,.01)\n",
      "x1=arange(0,2.25,.25)\n",
      "x2=arange(0,2.02,.02)\n",
      "#plot(x,.25*e**(2*x)-.5*x-.25,label='Actual',lw=2)\n",
      "plot(x1,.25*e**(2*x)-.5*x-.25-y,label='Error in .25 steps')\n",
      "plot(x2,Py-.25*e**(2*x)-.5*x-.25,label='Error in .02 steps')\n",
      "legend(loc='upper left')"
     ],
     "language": "python",
     "metadata": {},
     "outputs": [
      {
       "ename": "ValueError",
       "evalue": "shape mismatch: objects cannot be broadcast to a single shape",
       "output_type": "pyerr",
       "traceback": [
        "\u001b[1;31m---------------------------------------------------------------------------\u001b[0m\n\u001b[1;31mValueError\u001b[0m                                Traceback (most recent call last)",
        "\u001b[1;32m<ipython-input-14-de883f39e285>\u001b[0m in \u001b[0;36m<module>\u001b[1;34m()\u001b[0m\n\u001b[0;32m      3\u001b[0m \u001b[0mx2\u001b[0m\u001b[1;33m=\u001b[0m\u001b[0marange\u001b[0m\u001b[1;33m(\u001b[0m\u001b[1;36m0\u001b[0m\u001b[1;33m,\u001b[0m\u001b[1;36m2.02\u001b[0m\u001b[1;33m,\u001b[0m\u001b[1;36m.02\u001b[0m\u001b[1;33m)\u001b[0m\u001b[1;33m\u001b[0m\u001b[0m\n\u001b[0;32m      4\u001b[0m \u001b[1;31m#plot(x,.25*e**(2*x)-.5*x-.25,label='Actual',lw=2)\u001b[0m\u001b[1;33m\u001b[0m\u001b[1;33m\u001b[0m\u001b[0m\n\u001b[1;32m----> 5\u001b[1;33m \u001b[0mplot\u001b[0m\u001b[1;33m(\u001b[0m\u001b[0mx1\u001b[0m\u001b[1;33m,\u001b[0m\u001b[1;36m.25\u001b[0m\u001b[1;33m*\u001b[0m\u001b[0me\u001b[0m\u001b[1;33m**\u001b[0m\u001b[1;33m(\u001b[0m\u001b[1;36m2\u001b[0m\u001b[1;33m*\u001b[0m\u001b[0mx\u001b[0m\u001b[1;33m)\u001b[0m\u001b[1;33m-\u001b[0m\u001b[1;36m.5\u001b[0m\u001b[1;33m*\u001b[0m\u001b[0mx\u001b[0m\u001b[1;33m-\u001b[0m\u001b[1;36m.25\u001b[0m\u001b[1;33m-\u001b[0m\u001b[0my\u001b[0m\u001b[1;33m,\u001b[0m\u001b[0mlabel\u001b[0m\u001b[1;33m=\u001b[0m\u001b[1;34m'Error in .25 steps'\u001b[0m\u001b[1;33m)\u001b[0m\u001b[1;33m\u001b[0m\u001b[0m\n\u001b[0m\u001b[0;32m      6\u001b[0m \u001b[0mplot\u001b[0m\u001b[1;33m(\u001b[0m\u001b[0mx2\u001b[0m\u001b[1;33m,\u001b[0m\u001b[0mPy\u001b[0m\u001b[1;33m-\u001b[0m\u001b[1;36m.25\u001b[0m\u001b[1;33m*\u001b[0m\u001b[0me\u001b[0m\u001b[1;33m**\u001b[0m\u001b[1;33m(\u001b[0m\u001b[1;36m2\u001b[0m\u001b[1;33m*\u001b[0m\u001b[0mx\u001b[0m\u001b[1;33m)\u001b[0m\u001b[1;33m-\u001b[0m\u001b[1;36m.5\u001b[0m\u001b[1;33m*\u001b[0m\u001b[0mx\u001b[0m\u001b[1;33m-\u001b[0m\u001b[1;36m.25\u001b[0m\u001b[1;33m,\u001b[0m\u001b[0mlabel\u001b[0m\u001b[1;33m=\u001b[0m\u001b[1;34m'Error in .02 steps'\u001b[0m\u001b[1;33m)\u001b[0m\u001b[1;33m\u001b[0m\u001b[0m\n\u001b[0;32m      7\u001b[0m \u001b[0mlegend\u001b[0m\u001b[1;33m(\u001b[0m\u001b[0mloc\u001b[0m\u001b[1;33m=\u001b[0m\u001b[1;34m'upper left'\u001b[0m\u001b[1;33m)\u001b[0m\u001b[1;33m\u001b[0m\u001b[0m\n",
        "\u001b[1;31mValueError\u001b[0m: shape mismatch: objects cannot be broadcast to a single shape"
       ]
      }
     ],
     "prompt_number": 14
    },
    {
     "cell_type": "code",
     "collapsed": false,
     "input": [],
     "language": "python",
     "metadata": {},
     "outputs": []
    }
   ],
   "metadata": {}
  }
 ]
}