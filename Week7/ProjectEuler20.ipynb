{
 "metadata": {
  "name": "ProjectEuler20"
 },
 "nbformat": 3,
 "nbformat_minor": 0,
 "worksheets": [
  {
   "cells": [
    {
     "cell_type": "markdown",
     "metadata": {},
     "source": [
      "Factorial digit sum\n",
      "=\n",
      "Problem 20\n",
      "-\n",
      "$n!$ means $n*(n-1)*...*3*2*1$\n",
      "\n",
      "For example, $10! = 10*9*...*3*2*1 = 3628800$,\n",
      "\n",
      "\n",
      "and the sum of the digits in the number $10!$ is $3 + 6 + 2 + 8 + 8 + 0 + 0 = 27$.\n",
      "\n",
      "Find the sum of the digits in the number $100!$"
     ]
    },
    {
     "cell_type": "code",
     "collapsed": false,
     "input": [
      "num = 10\n",
      "\n",
      "l=1\n",
      "lsum=0\n",
      "for i in range(num,1,-1):\n",
      "    l=i*l\n",
      "    #print l\n",
      "strl=str(l)\n",
      "for c in strl:\n",
      "    lsum+=int(c)\n",
      "    #print lsum\n",
      "print \"The sum of the digits of\",str(num)+\"! is\",str(sum(lsum))"
     ],
     "language": "python",
     "metadata": {},
     "outputs": [
      {
       "output_type": "stream",
       "stream": "stdout",
       "text": [
        "The sum of the digits of 10! is 27\n"
       ]
      }
     ],
     "prompt_number": 12
    },
    {
     "cell_type": "code",
     "collapsed": false,
     "input": [
      "num = 100\n",
      "\n",
      "l=1\n",
      "lsum=0\n",
      "for i in range(num,1,-1):\n",
      "    l=i*l\n",
      "    #print l\n",
      "strl=str(l)\n",
      "for c in strl:\n",
      "    lsum+=int(c)\n",
      "    #print lsum\n",
      "print \"The sum of the digits of\",str(num)+\"! is\",str(sum(lsum))"
     ],
     "language": "python",
     "metadata": {},
     "outputs": [
      {
       "output_type": "stream",
       "stream": "stdout",
       "text": [
        "The sum of the digits of 100! is 648\n"
       ]
      }
     ],
     "prompt_number": 13
    },
    {
     "cell_type": "code",
     "collapsed": false,
     "input": [],
     "language": "python",
     "metadata": {},
     "outputs": []
    }
   ],
   "metadata": {}
  }
 ]
}