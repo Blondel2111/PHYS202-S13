{
 "metadata": {
  "name": "DataIO"
 },
 "nbformat": 3,
 "nbformat_minor": 0,
 "worksheets": [
  {
   "cells": [
    {
     "cell_type": "markdown",
     "metadata": {},
     "source": [
      "Data I/O and Linear Regression\n",
      "=\n",
      "Data I/O\n",
      "-"
     ]
    },
    {
     "cell_type": "code",
     "collapsed": false,
     "input": [
      "DataIn = loadtxt('input.dat')\n",
      "print DataIn.shape\n",
      "print DataIn"
     ],
     "language": "python",
     "metadata": {},
     "outputs": [
      {
       "output_type": "stream",
       "stream": "stdout",
       "text": [
        "(5, 3)\n",
        "[[ 0.   1.1  0.1]\n",
        " [ 2.   1.9  0.2]\n",
        " [ 4.   3.2  0.1]\n",
        " [ 6.   4.   0.3]\n",
        " [ 8.   5.9  0.3]]\n"
       ]
      }
     ],
     "prompt_number": 1
    },
    {
     "cell_type": "code",
     "collapsed": false,
     "input": [
      "print DataIn[:,2]"
     ],
     "language": "python",
     "metadata": {},
     "outputs": [
      {
       "output_type": "stream",
       "stream": "stdout",
       "text": [
        "[ 0.1  0.2  0.1  0.3  0.3]\n"
       ]
      }
     ],
     "prompt_number": 2
    },
    {
     "cell_type": "code",
     "collapsed": false,
     "input": [
      "x,y,yerr=loadtxt('input.dat',unpack=True)\n",
      "print x\n",
      "print y\n",
      "print yerr"
     ],
     "language": "python",
     "metadata": {},
     "outputs": [
      {
       "output_type": "stream",
       "stream": "stdout",
       "text": [
        "[ 0.  2.  4.  6.  8.]\n",
        "[ 1.1  1.9  3.2  4.   5.9]\n",
        "[ 0.1  0.2  0.1  0.3  0.3]\n"
       ]
      }
     ],
     "prompt_number": 3
    },
    {
     "cell_type": "code",
     "collapsed": false,
     "input": [
      "x,y=loadtxt('input.dat',unpack=True,usecols=[0,1])\n",
      "print x\n",
      "print y"
     ],
     "language": "python",
     "metadata": {},
     "outputs": [
      {
       "output_type": "stream",
       "stream": "stdout",
       "text": [
        "[ 0.  2.  4.  6.  8.]\n",
        "[ 1.1  1.9  3.2  4.   5.9]\n"
       ]
      }
     ],
     "prompt_number": 4
    },
    {
     "cell_type": "markdown",
     "metadata": {},
     "source": [
      "CSV files\n",
      "-"
     ]
    },
    {
     "cell_type": "code",
     "collapsed": false,
     "input": [
      "x,y=loadtxt('input.csv',unpack=True,delimiter=',',usecols=[0,1])\n",
      "print x,y"
     ],
     "language": "python",
     "metadata": {},
     "outputs": [
      {
       "output_type": "stream",
       "stream": "stdout",
       "text": [
        "[ 0.  2.  4.  6.  8.] [ 1.1  1.9  3.2  4.   5.9]\n"
       ]
      }
     ],
     "prompt_number": 5
    },
    {
     "cell_type": "code",
     "collapsed": false,
     "input": [
      "#x,y=loadtxt('input.csv',unpack=True,usecols=[0,1])\n",
      "#Error without delimiter defined"
     ],
     "language": "python",
     "metadata": {},
     "outputs": [],
     "prompt_number": 6
    },
    {
     "cell_type": "markdown",
     "metadata": {},
     "source": [
      "Writing data to a file\n",
      "-"
     ]
    },
    {
     "cell_type": "code",
     "collapsed": false,
     "input": [
      "p=zeros(10,float)"
     ],
     "language": "python",
     "metadata": {},
     "outputs": [],
     "prompt_number": 7
    },
    {
     "cell_type": "code",
     "collapsed": false,
     "input": [
      "t=arange(0,1,.1)\n",
      "v=array([.137,.456,.591,.713,.859,.936,1.139,1.327,1.512,1.875])"
     ],
     "language": "python",
     "metadata": {},
     "outputs": [],
     "prompt_number": 8
    },
    {
     "cell_type": "code",
     "collapsed": false,
     "input": [
      "p[:]=.15+v[:]/10.0"
     ],
     "language": "python",
     "metadata": {},
     "outputs": [],
     "prompt_number": 9
    },
    {
     "cell_type": "code",
     "collapsed": false,
     "input": [
      "savetxt('output.dat',(t,p))"
     ],
     "language": "python",
     "metadata": {},
     "outputs": [],
     "prompt_number": 10
    },
    {
     "cell_type": "code",
     "collapsed": false,
     "input": [
      "DataOut = column_stack((t,p))\n",
      "savetxt('output.dat',DataOut)"
     ],
     "language": "python",
     "metadata": {},
     "outputs": [],
     "prompt_number": 11
    },
    {
     "cell_type": "code",
     "collapsed": false,
     "input": [
      "savetxt('output.dat',DataOut,fmt=('%3i','%4.3f'))"
     ],
     "language": "python",
     "metadata": {},
     "outputs": [],
     "prompt_number": 12
    },
    {
     "cell_type": "code",
     "collapsed": false,
     "input": [
      "f=open(\"output.dat\",\"w\")\n",
      "f.write(\"#My comment line for this file, followed by a blank line, then the data\\n\\n\")\n",
      "savetxt(f,DataOut,fmt=('%3i','%4.3f'))\n",
      "f.close()"
     ],
     "language": "python",
     "metadata": {},
     "outputs": [],
     "prompt_number": 13
    },
    {
     "cell_type": "markdown",
     "metadata": {},
     "source": [
      "Exercise 1.\n",
      "-"
     ]
    },
    {
     "cell_type": "code",
     "collapsed": false,
     "input": [
      "Time=arange(1,11,1)\n",
      "Position=array([7.75,7.33,6.89,6.45,5.96,5.55,5.10,4.49,3.93,3.58])\n",
      "Uncertainty=array([.02,.03,.03,.04,.05,.06,.08,.11,.14,.17])\n",
      "print Time.shape,Position.shape,Uncertainty.shape"
     ],
     "language": "python",
     "metadata": {},
     "outputs": [
      {
       "output_type": "stream",
       "stream": "stdout",
       "text": [
        "(10,) (10,) (10,)\n"
       ]
      }
     ],
     "prompt_number": 14
    },
    {
     "cell_type": "code",
     "collapsed": false,
     "input": [
      "LinearData = column_stack((Time,Position,Uncertainty))\n",
      "savetxt('linearData.dat',LinearData)\n",
      "savetxt('linearData.csv',LinearData,delimiter=',')"
     ],
     "language": "python",
     "metadata": {},
     "outputs": [],
     "prompt_number": 15
    },
    {
     "cell_type": "code",
     "collapsed": false,
     "input": [
      "f=open(\"linearData.dat\",\"w\")\n",
      "f.write(\"#Time (s), Position (m), and Uncertainty of Position (m) data.\\n\\n\")\n",
      "savetxt(f,LinearData)\n",
      "f.close()"
     ],
     "language": "python",
     "metadata": {},
     "outputs": [],
     "prompt_number": 16
    },
    {
     "cell_type": "code",
     "collapsed": false,
     "input": [
      "f=open(\"linearData.csv\",\"w\")\n",
      "f.write(\"#Time (s), Position (m), and Uncertainty of Position (m) data with comma delimiter.\\n\\n\")\n",
      "savetxt(f,LinearData,delimiter=',')\n",
      "f.close()"
     ],
     "language": "python",
     "metadata": {},
     "outputs": [],
     "prompt_number": 17
    },
    {
     "cell_type": "markdown",
     "metadata": {},
     "source": [
      "Linear Regression\n",
      "=\n",
      "Exercise 2:\n",
      "-"
     ]
    },
    {
     "cell_type": "code",
     "collapsed": false,
     "input": [
      "def LinearLeastSquaresFit(x,y):\n",
      "    \"\"\"Take in arrays represting (x,y) values for a set of linearly varying data and perform a linear least squares regression. Return the resulting slope and intercept parameters of the best fit line with their uncertainties.\"\"\"\n",
      "    avX=1/float(len(x))*sum(x)\n",
      "    avY=1/float(len(y))*sum(y)\n",
      "    avX2=1/float(len(x))*sum(x**2)\n",
      "    avXY=1/float(len(x))*sum(x*y)\n",
      "    delI=zeros(x.shape,float)\n",
      "    slope=(avXY-avX*avY)/(avX2-avX**2)\n",
      "    intercept=(avX2*avY-avX*avXY)/(avX2-avX**2)\n",
      "    delI[:]=y[:]-(slope*x[:]+intercept)\n",
      "    Del2=sum(delI**2)\n",
      "    slerr=(1/(float(len(x))-2)*(Del2/float(len(x)))/(avX2-avX**2))**.5\n",
      "    interr=(1/(float(len(x))-2)*(Del2/float(len(x)))*avX2/(avX2-avX**2))**.5\n",
      "    return slope,intercept,slerr,interr"
     ],
     "language": "python",
     "metadata": {},
     "outputs": [],
     "prompt_number": 10
    },
    {
     "cell_type": "code",
     "collapsed": false,
     "input": [
      "x,y=loadtxt('linearData.dat',unpack=True,usecols=[0,1])\n",
      "LinearLeastSquaresFit(x,y)\n",
      "print \"slope = \"+str(LinearLeastSquaresFit(x,y)[0])+\" +/- \"+str(LinearLeastSquaresFit(x,y)[2])+\" and the intercept = \"+str(LinearLeastSquaresFit(x,y)[1])+\" +/- \"+str(LinearLeastSquaresFit(x,y)[3])"
     ],
     "language": "python",
     "metadata": {},
     "outputs": [
      {
       "output_type": "stream",
       "stream": "stdout",
       "text": [
        "slope = -0.471454545455 +/- 0.00799483304215 and the intercept = 8.296 +/- 0.0496066344537\n"
       ]
      }
     ],
     "prompt_number": 19
    },
    {
     "cell_type": "code",
     "collapsed": false,
     "input": [
      "linelabel='y=%.4f x + %.4f' %(LinearLeastSquaresFit(x,y)[0],LinearLeastSquaresFit(x,y)[1])\n",
      "scatter(x,y,label='Data')\n",
      "plot(x,LinearLeastSquaresFit(x,y)[0]*x+LinearLeastSquaresFit(x,y)[1],lw=2,label=linelabel)\n",
      "plot(x,(LinearLeastSquaresFit(x,y)[0]+LinearLeastSquaresFit(x,y)[2])*x+(LinearLeastSquaresFit(x,y)[1]+LinearLeastSquaresFit(x,y)[3]),lw=2,label='fit+')\n",
      "plot(x,(LinearLeastSquaresFit(x,y)[0]-LinearLeastSquaresFit(x,y)[2])*x+(LinearLeastSquaresFit(x,y)[1]-LinearLeastSquaresFit(x,y)[3]),lw=2,label='fit-')\n",
      "xlabel('Time [s]',fontsize=16)\n",
      "ylabel('Position [m]',fontsize=16)\n",
      "legend(loc='best')"
     ],
     "language": "python",
     "metadata": {},
     "outputs": [
      {
       "output_type": "pyout",
       "prompt_number": 29,
       "text": [
        "<matplotlib.legend.Legend at 0x4e4d710>"
       ]
      },
      {
       "output_type": "display_data",
       "png": "[encoded data removed]"
      }
     ],
     "prompt_number": 29
    },
    {
     "cell_type": "markdown",
     "metadata": {},
     "source": [
      "Exercise 3:\n",
      "-"
     ]
    },
    {
     "cell_type": "markdown",
     "metadata": {},
     "source": [
      "(a)"
     ]
    },
    {
     "cell_type": "code",
     "collapsed": false,
     "input": [
      "def WeightedLinearLeastSquaresFit(x,y,w):\n",
      "    \"\"\"Take in arrays representing (x,y) values for a set of linearly varying data and an array of weights (w). Perform a weighted linear least squares regression. Return the resulting slope and intercept parameters of the best fit line with their uncertainties.\"\"\"\n",
      "    slope=(sum(w)*sum(w*x*y)-sum(w*x)*sum(w*y))/(sum(w)*sum(w*x**2)-(sum(w*x))**2)\n",
      "    intercept=(sum(w*x**2)*sum(w*y)-sum(w*x)*sum(w*x*y))/(sum(w)*sum(w*x**2)-(sum(w*x))**2)\n",
      "    slerr=sqrt(sum(w)/(sum(w)*sum(w*x**2)-(sum(w*x))**2))\n",
      "    interr=sqrt(sum(w*x**2)/(sum(w)*sum(w*x**2)-(sum(w*x))**2))\n",
      "    return slope,slerr,intercept,interr"
     ],
     "language": "python",
     "metadata": {},
     "outputs": [],
     "prompt_number": 1
    },
    {
     "cell_type": "markdown",
     "metadata": {},
     "source": [
      "(b)"
     ]
    },
    {
     "cell_type": "code",
     "collapsed": false,
     "input": [
      "x,y,sigy=loadtxt('linearData.dat',unpack=True)\n",
      "w=1/sigy**2\n",
      "WeightedLinearLeastSquaresFit(x,y,w)\n",
      "print 'm =',WeightedLinearLeastSquaresFit(x,y,w)[0],\"+/-\",WeightedLinearLeastSquaresFit(x,y,w)[1],'and b =',WeightedLinearLeastSquaresFit(x,y,w)[2],'+/-',WeightedLinearLeastSquaresFit(x,y,w)[3]"
     ],
     "language": "python",
     "metadata": {},
     "outputs": [
      {
       "output_type": "stream",
       "stream": "stdout",
       "text": [
        "m = -0.451023983487 +/- 0.00657587085879 and b = 8.2200718179 +/- 0.0214377652083\n"
       ]
      }
     ],
     "prompt_number": 14
    },
    {
     "cell_type": "markdown",
     "metadata": {},
     "source": [
      "(c)"
     ]
    },
    {
     "cell_type": "code",
     "collapsed": false,
     "input": [
      "errorbar(x,y,yerr=sigy,fmt=' ',capthick=1.5,label='Data with uncertainty')\n",
      "linelabel='y=%.4f x + %.4f' %(LinearLeastSquaresFit(x,y)[0],LinearLeastSquaresFit(x,y)[1])\n",
      "weightedlinelabel='y=%.4f x + %.4f' %(WeightedLinearLeastSquaresFit(x,y,w)[0],WeightedLinearLeastSquaresFit(x,y,w)[2])\n",
      "plot(x,LinearLeastSquaresFit(x,y)[0]*x+LinearLeastSquaresFit(x,y)[1],lw=2,label=\"Non-weighted: \"+linelabel)\n",
      "plot(x,WeightedLinearLeastSquaresFit(x,y,w)[0]*x+WeightedLinearLeastSquaresFit(x,y,w)[2],lw=1.5,label=\"Weighted: \"+weightedlinelabel)\n",
      "xlim(0,11)\n",
      "ylim(0,8)\n",
      "legend(loc='lower left')"
     ],
     "language": "python",
     "metadata": {},
     "outputs": [
      {
       "output_type": "pyout",
       "prompt_number": 34,
       "text": [
        "<matplotlib.legend.Legend at 0x46dd4d0>"
       ]
      },
      {
       "output_type": "display_data",
       "png": "[encoded data removed]"
      }
     ],
     "prompt_number": 34
    },
    {
     "cell_type": "code",
     "collapsed": false,
     "input": [],
     "language": "python",
     "metadata": {},
     "outputs": []
    }
   ],
   "metadata": {}
  }
 ]
}