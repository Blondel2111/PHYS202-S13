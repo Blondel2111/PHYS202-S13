{
 "metadata": {
  "name": "ProjectEuler17"
 },
 "nbformat": 3,
 "nbformat_minor": 0,
 "worksheets": [
  {
   "cells": [
    {
     "cell_type": "markdown",
     "metadata": {},
     "source": [
      "Number letter counts\n",
      "=\n",
      "Problem 17\n",
      "-\n",
      "If the numbers 1 to 5 are written out in words: one, two, three, four, five, then there are 3 + 3 + 5 + 4 + 4 = 19 letters used in total.\n",
      "\n",
      "If all the numbers from 1 to 1000 (one thousand) inclusive were written out in words, how many letters would be used?\n",
      "\n",
      "\n",
      "NOTE: Do not count spaces or hyphens. For example, 342 (three hundred and forty-two) contains 23 letters and 115 (one hundred and fifteen) contains 20 letters. The use of \"and\" when writing out numbers is in compliance with British usage."
     ]
    },
    {
     "cell_type": "code",
     "collapsed": false,
     "input": [
      "d1={'0':0,'1':3,'2':3,'3':5,'4':4,'5':4,'6':3,'7':5,'8':5,'9':4} #letters in ones\n",
      "d2={'0':0,'10':3,'11':6,'12':6,'13':8,'14':8,'15':7,'16':7,'17':9,'18':8,'19':8} #letters in teens\n",
      "d3={'0':0,'10':3,'20':6,'30':6,'40':5,'50':5,'60':5,'70':7,'80':6,'90':6} #letters in tens\n",
      "d4={'0':0,'100':10,'200':10,'300':12,'400':11,'500':11,'600':10,'700':12,'800':12,'900':11,'1000':11} #letters in hundreds and thousands"
     ],
     "language": "python",
     "metadata": {},
     "outputs": [],
     "prompt_number": 55
    },
    {
     "cell_type": "code",
     "collapsed": false,
     "input": [
      "#Test Case:\n",
      "Counter=0\n",
      "\n",
      "#Sum of number of letters for 1-5 should be 19:\n",
      "for i in range(1,6,1):\n",
      "    if i<=10:\n",
      "        n=str(i)\n",
      "        Counter+=d1[n]\n",
      "print Counter"
     ],
     "language": "python",
     "metadata": {},
     "outputs": [
      {
       "output_type": "stream",
       "stream": "stdout",
       "text": [
        "19\n"
       ]
      }
     ],
     "prompt_number": 56
    },
    {
     "cell_type": "code",
     "collapsed": false,
     "input": [
      "Counter=0\n",
      "\n",
      "for i in range(1,1001,1):\n",
      "    n=str(i)\n",
      "    if i<10:\n",
      "        Counter+=d1[n]\n",
      "    elif i>=10 and i<20:\n",
      "        Counter+=d2[n]\n",
      "    elif i>=20 and i<100:\n",
      "        tens=str(int(n[0])*10)\n",
      "        ones=n[1]\n",
      "        Counter+=(d3[tens]+d1[ones])\n",
      "    elif i>=100 and i<1000:\n",
      "        if i%100==0:\n",
      "            Counter+=d4[n]\n",
      "        elif i%100>=11 and i%100<20:\n",
      "            hundreds=str(int(n[0])*100)\n",
      "            teens=n[1:]\n",
      "            Counter+=(d4[hundreds]+d2[teens]+3)\n",
      "        else:\n",
      "            hundreds=str(int(n[0])*100)\n",
      "            tens=str(int(n[1])*10)\n",
      "            ones=n[2]\n",
      "            Counter+=(d4[hundreds]+d3[tens]+d1[ones]+3)\n",
      "    else:\n",
      "        Counter+=d4[n]\n",
      "print Counter"
     ],
     "language": "python",
     "metadata": {},
     "outputs": [
      {
       "output_type": "stream",
       "stream": "stdout",
       "text": [
        "21124\n"
       ]
      }
     ],
     "prompt_number": 58
    },
    {
     "cell_type": "code",
     "collapsed": false,
     "input": [],
     "language": "python",
     "metadata": {},
     "outputs": [],
     "prompt_number": 45
    }
   ],
   "metadata": {}
  }
 ]
}