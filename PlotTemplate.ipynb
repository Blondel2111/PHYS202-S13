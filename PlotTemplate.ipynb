{
 "metadata": {
  "name": "PlotTemplate"
 },
 "nbformat": 3,
 "nbformat_minor": 0,
 "worksheets": [
  {
   "cells": [
    {
     "cell_type": "markdown",
     "metadata": {},
     "source": [
      "Publication ready plot template\n",
      "=\n",
      "Simple graphing template for matplotlib functions and data plots.\n",
      "-"
     ]
    },
    {
     "cell_type": "markdown",
     "metadata": {},
     "source": [
      "Line plots"
     ]
    },
    {
     "cell_type": "code",
     "collapsed": false,
     "input": [
      "y = arange(-5,5,.01) #sets y equal to an array of numbers between -5 and 5\n",
      "E = cosh(y)\n",
      "p=sinh(y)"
     ],
     "language": "python",
     "metadata": {},
     "outputs": [],
     "prompt_number": 2
    },
    {
     "cell_type": "code",
     "collapsed": false,
     "input": [],
     "language": "python",
     "metadata": {},
     "outputs": []
    }
   ],
   "metadata": {}
  }
 ]
}