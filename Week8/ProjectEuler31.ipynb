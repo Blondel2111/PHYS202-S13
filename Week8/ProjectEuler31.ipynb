{
 "metadata": {
  "name": "ProjectEuler31"
 },
 "nbformat": 3,
 "nbformat_minor": 0,
 "worksheets": [
  {
   "cells": [
    {
     "cell_type": "markdown",
     "metadata": {},
     "source": [
      "Coin sums\n",
      "=\n",
      "Problem 31\n",
      "-\n",
      "In England the currency is made up of pound, \u00a3, and pence, p, and there are eight coins in general circulation:\n",
      "\n",
      "1p, 2p, 5p, 10p, 20p, 50p, \u00a31 (100p) and \u00a32 (200p). \n",
      "\n",
      "It is possible to make \u00a32 in the following way:\n",
      "\n",
      "1*\u00a31 + 1*50p + 2*20p + 1*5p + 1*2p + 3*1p\n",
      "\n",
      "How many different ways can \u00a32 be made using any number of coins?"
     ]
    },
    {
     "cell_type": "code",
     "collapsed": false,
     "input": [
      "#WARNING: This may take a while to run.\n",
      "count=0\n",
      "for a in range(201):\n",
      "    for b in range(101):\n",
      "        for c in range(41):\n",
      "            for d in range(21):\n",
      "                for e in range(11):\n",
      "                    for f in range(5):\n",
      "                        for g in range(3):\n",
      "                            for h in range(2):\n",
      "                                if a+(b*2)+(c*5)+(d*10)+(e*20)+(f*50)+(g*100)+(h*200)==200:\n",
      "                                    count +=1\n",
      "print count"
     ],
     "language": "python",
     "metadata": {},
     "outputs": [
      {
       "output_type": "stream",
       "stream": "stdout",
       "text": [
        "73682\n"
       ]
      }
     ],
     "prompt_number": 23
    },
    {
     "cell_type": "code",
     "collapsed": false,
     "input": [],
     "language": "python",
     "metadata": {},
     "outputs": [],
     "prompt_number": 22
    },
    {
     "cell_type": "code",
     "collapsed": false,
     "input": [],
     "language": "python",
     "metadata": {},
     "outputs": []
    }
   ],
   "metadata": {}
  }
 ]
}