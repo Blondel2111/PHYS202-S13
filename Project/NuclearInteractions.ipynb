{
 "metadata": {
  "name": "NuclearInteractions"
 },
 "nbformat": 3,
 "nbformat_minor": 0,
 "worksheets": [
  {
   "cells": [
    {
     "cell_type": "markdown",
     "metadata": {},
     "source": [
      "Monte Carlo Glauber Model of Nuclear Interactions\n",
      "="
     ]
    },
    {
     "cell_type": "code",
     "collapsed": false,
     "input": [
      "N=10.\n",
      "R=1.6\n",
      "b=1.1*R*rand(N,1)\n",
      "w={'C':0,'O':-.051,'Al':0,'S':0,'Ca':-.161,'Ni':-.1308,'Cu':0,'W':0,'Au':0,'Pb':0,'U':0}\n",
      "A={'C':12,'O':16,'Al':27,'S':32,'Ca':40,'Ni':58,'Cu':63,'W':186,'Au':197,'Pb':208,'U':238}\n",
      "#R={}\n",
      "#print b\n",
      "#print b[4]\n",
      "#print w['Ni']\n",
      "#print A['Al']"
     ],
     "language": "python",
     "metadata": {},
     "outputs": [],
     "prompt_number": 37
    },
    {
     "cell_type": "code",
     "collapsed": false,
     "input": [
      "data=loadtxt(\"PDG_Data.txt\",str)\n",
      "Point=data[:,0]\n",
      "Plab=data[:,1] #GeV/c\n",
      "Plab_min=data[:,2]\n",
      "Plab_max=data[:,3]\n",
      "Sig=data[:,4]\n",
      "StEr_H=data[:,5]\n",
      "StEr_L=data[:,6]\n",
      "SyEr_H=data[:,7]\n",
      "SyEr_L=data[:,8]"
     ],
     "language": "python",
     "metadata": {},
     "outputs": [],
     "prompt_number": 10
    },
    {
     "cell_type": "code",
     "collapsed": false,
     "input": [
      "def WoodsSaxon(x):\n",
      "    Rar=arange(0,1.1*R+.01,.01)\n",
      "    Rho=(1+w[x]*"
     ],
     "language": "python",
     "metadata": {},
     "outputs": [],
     "prompt_number": 13
    },
    {
     "cell_type": "code",
     "collapsed": false,
     "input": [],
     "language": "python",
     "metadata": {},
     "outputs": []
    }
   ],
   "metadata": {}
  }
 ]
}