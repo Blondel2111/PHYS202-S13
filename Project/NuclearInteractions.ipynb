{
 "metadata": {
  "name": "NuclearInteractions"
 },
 "nbformat": 3,
 "nbformat_minor": 0,
 "worksheets": [
  {
   "cells": [
    {
     "cell_type": "markdown",
     "metadata": {},
     "source": [
      "Monte Carlo Glauber Model of Nuclear Interactions\n",
      "="
     ]
    },
    {
     "cell_type": "code",
     "collapsed": false,
     "input": [
      "N=10.\n",
      "R=1.6\n",
      "b=1.1*R*rand(N,1)\n",
      "w={'C':0,'O':-.051,'Al':0,'S':0,'Ca':-.161,'Ni':-.1308,'Cu':0,'W':0,'Au':0,'Pb':0,'U':0}\n",
      "A={'C':12,'O':16,'Al':27,'S':32,'Ca':40,'Ni':58,'Cu':63,'W':186,'Au':197,'Pb':208,'U':238}\n",
      "R={'C':2.47,'O':2.608,'Al':3.07,'S':3.458,'Ca':3.76,'Ni':4.309,'Cu':4.2,'W':6.51,'Au':6.38,'Pb':6.68,'U':6.68}\n",
      "a={'C':0,'O':.513,'Al':.519,'S':.61,'Ca':.586,'Ni':.516,'Cu':.596,'W':.535,'Au':.535,'Pb':.546,'U':.6}\n",
      "\n",
      "#print b\n",
      "#print b[4]\n",
      "#print w['Ni']\n",
      "#print A['Al']"
     ],
     "language": "python",
     "metadata": {},
     "outputs": [],
     "prompt_number": 34
    },
    {
     "cell_type": "code",
     "collapsed": false,
     "input": [
      "data=loadtxt(\"PDG_Data.txt\",float,usecols=(0,1,2,3,4,5,6,7,8))\n",
      "Point=data[:,0]\n",
      "Plab=data[:,1] #GeV/c\n",
      "Plab_min=data[:,2]\n",
      "Plab_max=data[:,3]\n",
      "Sig=data[:,4]\n",
      "StEr_H=data[:,5]\n",
      "StEr_L=data[:,6]\n",
      "SyEr_H=data[:,7]\n",
      "SyEr_L=data[:,8]"
     ],
     "language": "python",
     "metadata": {},
     "outputs": [],
     "prompt_number": 54
    },
    {
     "cell_type": "code",
     "collapsed": false,
     "input": [
      "Edata=loadtxt(\"EPNG_Data.txt\",float,usecols=(0,1,2,3,4,5,6,7,8))\n",
      "EPoint=Edata[:,0]\n",
      "EPlab=Edata[:,1] #GeV/c\n",
      "EPlab_min=Edata[:,2]\n",
      "EPlab_max=Edata[:,3]\n",
      "ESig=Edata[:,4]\n",
      "EStEr_H=Edata[:,5]\n",
      "EStEr_L=Edata[:,6]\n",
      "ESyEr_H=Edata[:,7]\n",
      "ESyEr_L=Edata[:,8]"
     ],
     "language": "python",
     "metadata": {},
     "outputs": [],
     "prompt_number": 71
    },
    {
     "cell_type": "code",
     "collapsed": false,
     "input": [
      "loglog(Plab,Sig,ls=' ',marker='.',markersize=3,color='black')\n",
      "loglog(EPlab,ESig,ls=' ',marker='.',markersize=3,color='black')\n",
      "annotate(\"$P_{lab}$(GeV/C)\",fontsize=16,xy=(.1,1),xytext=(10e5,1.5))\n",
      "grid(which='minor',axis='y')\n",
      "grid(which='major',axis='x')"
     ],
     "language": "python",
     "metadata": {},
     "outputs": [
      {
       "output_type": "display_data",
       "png": "[encoded data removed]"
      }
     ],
     "prompt_number": 105
    },
    {
     "cell_type": "code",
     "collapsed": false,
     "input": [
      "def WoodsSaxon(y):\n",
      "    A={'C':12,'O':16,'Al':27,'S':32,'Ca':40,'Ni':58,'Cu':63,'W':186,'Au':197,'Pb':208,'U':238}\n",
      "    if type(y)==str:\n",
      "        x=y\n",
      "    else:\n",
      "        for An,Val in A.iteritems():\n",
      "            if Val==y:\n",
      "                x=An\n",
      "    a={'C':0,'O':.513,'Al':.519,'S':.61,'Ca':.586,'Ni':.516,'Cu':.596,'W':.535,'Au':.535,'Pb':.546,'U':.6}\n",
      "    w={'C':0,'O':-.051,'Al':0,'S':0,'Ca':-.161,'Ni':-.1308,'Cu':0,'W':0,'Au':0,'Pb':0,'U':0}\n",
      "    A={'C':12,'O':16,'Al':27,'S':32,'Ca':40,'Ni':58,'Cu':63,'W':186,'Au':197,'Pb':208,'U':238}\n",
      "    R={'C':2.47,'O':2.608,'Al':3.07,'S':3.458,'Ca':3.76,'Ni':4.309,'Cu':4.2,'W':6.51,'Au':6.38,'Pb':6.68,'U':6.68}\n",
      "    r=arange(0,1.1*R[x]+.01,.01)\n",
      "    Rho=(1+w[x]*r**2/R[x]**2)/(1+e**((r-R[x])/a[x]))\n",
      "    return Rho"
     ],
     "language": "python",
     "metadata": {},
     "outputs": [],
     "prompt_number": 43
    },
    {
     "cell_type": "code",
     "collapsed": false,
     "input": [
      "#WoodsSaxon(58)"
     ],
     "language": "python",
     "metadata": {},
     "outputs": [],
     "prompt_number": 46
    },
    {
     "cell_type": "code",
     "collapsed": false,
     "input": [
      "help(grid)"
     ],
     "language": "python",
     "metadata": {},
     "outputs": [
      {
       "output_type": "stream",
       "stream": "stdout",
       "text": [
        "Help on function grid in module matplotlib.pyplot:\n",
        "\n",
        "grid(b=None, which='major', axis='both', **kwargs)\n",
        "    Turn the axes grids on or off.\n",
        "    \n",
        "    Call signature::\n",
        "    \n",
        "       grid(self, b=None, which='major', axis='both', **kwargs)\n",
        "    \n",
        "    Set the axes grids on or off; *b* is a boolean.  (For MATLAB\n",
        "    compatibility, *b* may also be a string, 'on' or 'off'.)\n",
        "    \n",
        "    If *b* is *None* and ``len(kwargs)==0``, toggle the grid state.  If\n",
        "    *kwargs* are supplied, it is assumed that you want a grid and *b*\n",
        "    is thus set to *True*.\n",
        "    \n",
        "    *which* can be 'major' (default), 'minor', or 'both' to control\n",
        "    whether major tick grids, minor tick grids, or both are affected.\n",
        "    \n",
        "    *axis* can be 'both' (default), 'x', or 'y' to control which\n",
        "    set of gridlines are drawn.\n",
        "    \n",
        "    *kwargs* are used to set the grid line properties, eg::\n",
        "    \n",
        "       ax.grid(color='r', linestyle='-', linewidth=2)\n",
        "    \n",
        "    Valid :class:`~matplotlib.lines.Line2D` kwargs are\n",
        "    \n",
        "      agg_filter: unknown\n",
        "      alpha: float (0.0 transparent through 1.0 opaque)         \n",
        "      animated: [True | False]         \n",
        "      antialiased or aa: [True | False]         \n",
        "      axes: an :class:`~matplotlib.axes.Axes` instance         \n",
        "      clip_box: a :class:`matplotlib.transforms.Bbox` instance         \n",
        "      clip_on: [True | False]         \n",
        "      clip_path: [ (:class:`~matplotlib.path.Path`,         :class:`~matplotlib.transforms.Transform`) |         :class:`~matplotlib.patches.Patch` | None ]         \n",
        "      color or c: any matplotlib color         \n",
        "      contains: a callable function         \n",
        "      dash_capstyle: ['butt' | 'round' | 'projecting']         \n",
        "      dash_joinstyle: ['miter' | 'round' | 'bevel']         \n",
        "      dashes: sequence of on/off ink in points         \n",
        "      data: 2D array (rows are x, y) or two 1D arrays         \n",
        "      drawstyle: [ 'default' | 'steps' | 'steps-pre' | 'steps-mid' | 'steps-post' ]         \n",
        "      figure: a :class:`matplotlib.figure.Figure` instance         \n",
        "      fillstyle: ['full' | 'left' | 'right' | 'bottom' | 'top' | 'none']         \n",
        "      gid: an id string         \n",
        "      label: string or anything printable with '%s' conversion.         \n",
        "      linestyle or ls: [ ``'-'`` | ``'--'`` | ``'-.'`` | ``':'`` | ``'None'`` | ``' '`` | ``''`` ]         and any drawstyle in combination with a linestyle, e.g. ``'steps--'``.         \n",
        "      linewidth or lw: float value in points         \n",
        "      lod: [True | False]         \n",
        "      marker: [ ``7`` | ``4`` | ``5`` | ``6`` | ``'o'`` | ``'D'`` | ``'h'`` | ``'H'`` | ``'_'`` | ``''`` | ``'None'`` | ``' '`` | ``None`` | ``'8'`` | ``'p'`` | ``','`` | ``'+'`` | ``'.'`` | ``'s'`` | ``'*'`` | ``'d'`` | ``3`` | ``0`` | ``1`` | ``2`` | ``'1'`` | ``'3'`` | ``'4'`` | ``'2'`` | ``'v'`` | ``'<'`` | ``'>'`` | ``'^'`` | ``'|'`` | ``'x'`` | ``'$...$'`` | *tuple* | *Nx2 array* ]\n",
        "      markeredgecolor or mec: any matplotlib color         \n",
        "      markeredgewidth or mew: float value in points         \n",
        "      markerfacecolor or mfc: any matplotlib color         \n",
        "      markerfacecoloralt or mfcalt: any matplotlib color         \n",
        "      markersize or ms: float         \n",
        "      markevery: None | integer | (startind, stride)\n",
        "      picker: float distance in points or callable pick function         ``fn(artist, event)``         \n",
        "      pickradius: float distance in points         \n",
        "      rasterized: [True | False | None]         \n",
        "      snap: unknown\n",
        "      solid_capstyle: ['butt' | 'round' |  'projecting']         \n",
        "      solid_joinstyle: ['miter' | 'round' | 'bevel']         \n",
        "      transform: a :class:`matplotlib.transforms.Transform` instance         \n",
        "      url: a url string         \n",
        "      visible: [True | False]         \n",
        "      xdata: 1D array         \n",
        "      ydata: 1D array         \n",
        "      zorder: any number\n",
        "\n"
       ]
      }
     ],
     "prompt_number": 97
    },
    {
     "cell_type": "code",
     "collapsed": false,
     "input": [],
     "language": "python",
     "metadata": {},
     "outputs": [],
     "prompt_number": 46
    },
    {
     "cell_type": "code",
     "collapsed": false,
     "input": [],
     "language": "python",
     "metadata": {},
     "outputs": []
    }
   ],
   "metadata": {}
  }
 ]
}