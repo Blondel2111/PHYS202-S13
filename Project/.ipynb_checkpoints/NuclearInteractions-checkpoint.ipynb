{
 "metadata": {
  "name": "",
  "signature": "sha256:2ad15255c0f0cb62753be04f260ad5ae6873cadfdc4b735e9cf21d099bfbb391"
 },
 "nbformat": 3,
 "nbformat_minor": 0,
 "worksheets": [
  {
   "cells": [
    {
     "cell_type": "markdown",
     "metadata": {},
     "source": [
      "Monte Carlo Glauber Model of Nuclear Interactions\n",
      "======"
     ]
    },
    {
     "cell_type": "code",
     "collapsed": false,
     "input": [
      "%pylab inline"
     ],
     "language": "python",
     "metadata": {},
     "outputs": [],
     "prompt_number": 0
    },
    {
     "cell_type": "code",
     "collapsed": false,
     "input": [
      "import IPython.core.pylabtools as pyt\n",
      "import numpy as np\n",
      "import matplotlib.pyplot as plt\n",
      "from datetime import date\n",
      "from urllib2 import urlopen\n",
      "from scipy.optimize import curve_fit\n",
      "import time"
     ],
     "language": "python",
     "metadata": {},
     "outputs": [],
     "prompt_number": 1
    },
    {
     "cell_type": "code",
     "collapsed": false,
     "input": [
      "#Defining profile parameters for a few elements\n",
      "w={'He':0,'C':0,'O':-.051,'Al':0,'S':0,'Ca':-.161,'Ni':-.1308,'Cu':0,'W':0,'Au':0,'Pb':0,'U':0}\n",
      "A={'He':3,'C':12,'O':16,'Al':27,'S':32,'Ca':40,'Ni':58,'Cu':63,'W':186,'Au':197,'Pb':208,'U':238}\n",
      "R={'He':1.8,'C':2.47,'O':2.608,'Al':3.07,'S':3.458,'Ca':3.76,'Ni':4.309,'Cu':4.2,'W':6.51,'Au':6.38,'Pb':6.68,'U':6.68}\n",
      "a={'He':1,'C':0,'O':.513,'Al':.519,'S':.61,'Ca':.586,'Ni':.516,'Cu':.596,'W':.535,'Au':.535,'Pb':.546,'U':.6}"
     ],
     "language": "python",
     "metadata": {},
     "outputs": [],
     "prompt_number": 2
    },
    {
     "cell_type": "code",
     "collapsed": false,
     "input": [
      "#Loading total collision data from local text file\n",
      "data=np.loadtxt(\"rpp2013-pp_total.dat\",float,usecols=(0,1,2,3,4,5,6,7,8))\n",
      "Point=data[:,0]\n",
      "Plab=data[:,1] #GeV/c\n",
      "Plab_min=data[:,2]\n",
      "Plab_max=data[:,3]\n",
      "Sig=data[:,4]\n",
      "StEr_H=data[:,5]\n",
      "StEr_L=data[:,6]\n",
      "SyEr_H=data[:,7]\n",
      "SyEr_L=data[:,8]"
     ],
     "language": "python",
     "metadata": {},
     "outputs": [],
     "prompt_number": 3
    },
    {
     "cell_type": "code",
     "collapsed": false,
     "input": [
      "def Ecm(Plab):\n",
      "    \"\"\"Converts Plab momenta to center of mass energy [GeV].\"\"\"\n",
      "    E=(((Plab**2+.938**2)**(1/2.)+.938)**2-(Plab**2))**(1/2.)\n",
      "    return E"
     ],
     "language": "python",
     "metadata": {},
     "outputs": [],
     "prompt_number": 4
    },
    {
     "cell_type": "code",
     "collapsed": false,
     "input": [
      "#Loading elastic collision data from local text file\n",
      "Edata=np.loadtxt(\"rpp2013-pp_elastic.dat\",float,usecols=(0,1,2,3,4,5,6,7,8))\n",
      "EPoint=Edata[:,0]\n",
      "EPlab=Edata[:,1] #GeV/c\n",
      "EPlab_min=Edata[:,2]\n",
      "EPlab_max=Edata[:,3]\n",
      "ESig=Edata[:,4]\n",
      "EStEr_H=Edata[:,5]\n",
      "EStEr_L=Edata[:,6]\n",
      "ESyEr_H=Edata[:,7]\n",
      "ESyEr_L=Edata[:,8]"
     ],
     "language": "python",
     "metadata": {},
     "outputs": [],
     "prompt_number": 5
    },
    {
     "cell_type": "code",
     "collapsed": false,
     "input": [
      "#convert all Plab momenta to corresponding center-of-mass energy\n",
      "E_cm=Ecm(Plab)\n",
      "eE_cm=Ecm(EPlab)\n",
      "cm_min=Ecm(Plab_min)\n",
      "cm_max=Ecm(Plab_max)\n",
      "ecm_min=Ecm(EPlab_min)\n",
      "ecm_max=Ecm(EPlab_max)"
     ],
     "language": "python",
     "metadata": {},
     "outputs": [],
     "prompt_number": 6
    },
    {
     "cell_type": "code",
     "collapsed": false,
     "input": [
      "#Define best fit curve given by the particle data group\n",
      "def func(s,P,H,M,R1,R2,n1,n2):\n",
      "    m=.93827 #Proton mass GeV/c^2\n",
      "    sM=(2*m+M)**2 #Mass^2 (GeV/c^2)^2\n",
      "    hbar=6.58211928*10**-25 #GeV*s\n",
      "    c=2.99792458*10**8 #m/s\n",
      "    sigma=H*(np.log(s**2/sM))**2+P+R1*(s**2/sM)**(-n1)-R2*(s**2/sM)**(-n2)\n",
      "    return sigma"
     ],
     "language": "python",
     "metadata": {},
     "outputs": [],
     "prompt_number": 7
    },
    {
     "cell_type": "code",
     "collapsed": false,
     "input": [
      "#Apply best fit curve to the elastic cross-section data\n",
      "s=eE_cm[:]\n",
      "y=ESig[:]\n",
      "p0=[4.45,.0965,2.127,11,4,.55,.55]\n",
      "popt,pcov=curve_fit(func,s,y,p0)"
     ],
     "language": "python",
     "metadata": {},
     "outputs": [],
     "prompt_number": 8
    },
    {
     "cell_type": "code",
     "collapsed": false,
     "input": [
      "#Apply best fit curve to total cross-section data\n",
      "s2=E_cm[90:]\n",
      "y2=Sig[90:]\n",
      "p0=[34.49,.2704,2.127,12.98,7.38,.451,.549]\n",
      "popt2,pcov2=curve_fit(func,s2,y2,p0)\n",
      "\n",
      "def SigI(BE):\n",
      "    \"\"\"Returns the proton-proton cross-sectional area [fm^2] for given beam energy [GeV]\"\"\"\n",
      "    return .1*(func(BE,popt2[0],popt2[1],popt2[2],popt2[3],popt2[4],popt2[5],popt2[6])-func(BE,popt[0],popt[1],popt[2],popt[3],popt[4],popt[5],popt[6]))\n",
      "print SigI(171)"
     ],
     "language": "python",
     "metadata": {},
     "outputs": [
      {
       "output_type": "stream",
       "stream": "stdout",
       "text": [
        "4.199316516\n"
       ]
      }
     ],
     "prompt_number": 9
    },
    {
     "cell_type": "code",
     "collapsed": false,
     "input": [
      "pyt.figsize(9,6)\n",
      "plt.loglog(Plab,Sig,ls=' ',marker='.',markersize=3,color='black')\n",
      "plt.loglog(EPlab,ESig,ls=' ',marker='.',markersize=3,color='black')\n",
      "\n",
      "plt.errorbar(Plab,Sig,xerr=[Plab-Plab_min,Plab_max-Plab],yerr=[StEr_L,StEr_H],ms=.5,mew=0,fmt=None,ecolor='black')\n",
      "plt.errorbar(EPlab,ESig,xerr=[EPlab-EPlab_min,EPlab_max-EPlab],yerr=[EStEr_L,EStEr_H],ms=.5,mew=0,fmt=None,ecolor='black')\n",
      "plt.annotate(\"$P_{lab}(GeV/c)$\",fontsize=16,xy=(.1,1),xytext=(10e5,1.5))\n",
      "plt.annotate(\"total\",fontsize=11,xy=(300,60),xytext=(300,60))\n",
      "plt.annotate(\"elastic\",fontsize=11,xy=(300,10),xytext=(300,10))\n",
      "plt.annotate(\"pp\",fontsize=11,xy=(70,15),xytext=(68,18))\n",
      "plt.ylabel(\"Cross Section (mb)\",fontsize=12)\n",
      "plt.ylim(1,400)\n",
      "plt.grid(which='minor',axis='y')\n",
      "plt.grid(which='major',axis='x')\n",
      "plt.show()\n",
      "#savefig('ParticleData_EFit.png')"
     ],
     "language": "python",
     "metadata": {},
     "outputs": [],
     "prompt_number": 10
    },
    {
     "cell_type": "code",
     "collapsed": false,
     "input": [
      "pyt.figsize(12,7)\n",
      "plt.loglog(E_cm,Sig,ls=' ',marker='.',markersize=3,color='black',label='PDG Data')\n",
      "plt.loglog(eE_cm,ESig,ls=' ',marker='.',markersize=3,color='black')\n",
      "#loglog(E_cm,func(E_cm,34.49,.2704,2.127,12.98,7.38,.451,.549))\n",
      "plt.loglog(E_cm[90:],func(E_cm[90:],popt2[0],popt2[1],popt2[2],popt2[3],popt2[4],popt2[5],popt2[6]),color='blue')\n",
      "#loglog(E_cm,func(E_cm,4.45,.0965,2.127,11,4,.55,.55))\n",
      "plt.loglog(E_cm,func(E_cm,popt[0],popt[1],popt[2],popt[3],popt[4],popt[5],popt[6]),color='blue',label='Fit')\n",
      "plt.scatter(7000,70.5,label='TOTEM EPL 101 21003',color='red')\n",
      "plt.scatter([2760,7000],[62.1,72.7],label='ALICE 2011',color='blue')\n",
      "plt.scatter([7000,8000],[72.9,74.7],label='TOTEM 2013',color='green')\n",
      "plt.errorbar([2760,7000,7000,7000,8000],[62.1,70.5,72.7,72.9,74.7],yerr=[5.9,3.4,6.2,1.5,1.7],fmt=' ',color='black')\n",
      "#loglog(E_cm[90:],func(E_cm[90:],popt2[0],popt2[1],popt2[2],popt2[3],popt2[4],popt2[5],popt2[6])-func(E_cm[90:],popt[0],popt[1],popt[2],popt[3],popt[4],popt[5],popt[6]))\n",
      "plt.loglog(E_cm[90:],10*SigI(E_cm[90:]))\n",
      "plt.errorbar(E_cm,Sig,xerr=[E_cm-cm_min,cm_max-E_cm],yerr=[StEr_L,StEr_H],ms=.5,mew=0,fmt=None,ecolor='black')\n",
      "plt.errorbar(eE_cm,ESig,xerr=[eE_cm-ecm_min,ecm_max-eE_cm],yerr=[EStEr_L,EStEr_H],ms=.5,mew=0,fmt=None,ecolor='black')\n",
      "plt.annotate(\"Total\",fontsize=11,xy=(7,46),xytext=(7,46))\n",
      "plt.annotate(\"Elastic\",fontsize=11,xy=(1000,10),xytext=(1000,10))\n",
      "plt.annotate(\"Inelastic\",fontsize=11,xy=(35,25),xytext=(35,25))\n",
      "plt.title(\"pp Cross Section Data\",fontsize=16)\n",
      "plt.ylabel(\"Cross Section [mb]\",fontsize=12)\n",
      "plt.xlabel(\"$\\sqrt{s}\\,[GeV]$\",fontsize=16)\n",
      "plt.ylim(1,400)\n",
      "plt.grid(which='minor',axis='y')\n",
      "plt.grid(which='major',axis='x')\n",
      "plt.legend(loc=4)\n",
      "plt.show()\n",
      "#savefig('ppCrossSectionData.png')"
     ],
     "language": "python",
     "metadata": {},
     "outputs": [],
     "prompt_number": 11
    },
    {
     "cell_type": "code",
     "collapsed": false,
     "input": [],
     "language": "python",
     "metadata": {},
     "outputs": [],
     "prompt_number": 12
    },
    {
     "cell_type": "code",
     "collapsed": false,
     "input": [
      "def NCD(y):\n",
      "    \"\"\"Returns the Nuclear Charge Density Distribution for given element or atomic number\"\"\"\n",
      "    A={'He':3,'C':12,'O':16,'Al':27,'S':32,'Ca':40,'Ni':58,'Cu':63,'W':186,'Au':197,'Pb':208,'U':238}\n",
      "    if type(y)==str:\n",
      "        x=y\n",
      "    else:\n",
      "        for An,Val in A.iteritems():\n",
      "            if Val==y:\n",
      "                x=An\n",
      "    a={'He':.01,'C':0,'O':.513,'Al':.519,'S':.61,'Ca':.586,'Ni':.516,'Cu':.596,'W':.535,'Au':.535,'Pb':.546,'U':.6}\n",
      "    w={'He':0,'C':0,'O':-.051,'Al':0,'S':0,'Ca':-.161,'Ni':-.1308,'Cu':0,'W':0,'Au':0,'Pb':0,'U':0}\n",
      "    R={'He':1.8,'C':2.47,'O':2.608,'Al':3.07,'S':3.458,'Ca':3.76,'Ni':4.309,'Cu':4.2,'W':6.51,'Au':6.38,'Pb':6.68,'U':6.68}\n",
      "    r=np.arange(0,2*R[x]+.01,.01)\n",
      "    Rho=(1+w[x]*(r**2)/(R[x]**2))/(1+np.e**((r-R[x])/a[x]))\n",
      "    return Rho"
     ],
     "language": "python",
     "metadata": {},
     "outputs": [],
     "prompt_number": 16
    },
    {
     "cell_type": "code",
     "collapsed": false,
     "input": [
      "#Testing NCD function for Helium-3, Oxygen, Copper, and Lead\n",
      "xHe=np.arange(0,2*R['He']+.01,.01)\n",
      "xO=np.arange(0,2*R['O']+.01,.01)\n",
      "xCu=np.arange(0,2*R['Cu']+.01,.01)\n",
      "xPb=np.arange(0,2*R['Pb']+.01,.01)\n",
      "\n",
      "plt.plot(xO,NCD('O'),label='Oxygen',lw=2)\n",
      "plt.plot(xCu,NCD('Cu'),label='Copper',lw=2)\n",
      "plt.plot(xPb,NCD('Pb'),label='Lead',lw=2)\n",
      "plt.plot(xHe,NCD('He'),label='Helium-3',lw=2)\n",
      "plt.xlabel('Radial Distance [fm]',fontsize=12)\n",
      "plt.ylabel('Density Distribution',fontsize=12)\n",
      "plt.legend()\n",
      "plt.xlim((0,9))\n",
      "plt.ylim(0,1.1)\n",
      "plt.show()"
     ],
     "language": "python",
     "metadata": {},
     "outputs": [],
     "prompt_number": 19
    },
    {
     "cell_type": "code",
     "collapsed": false,
     "input": [
      "def distribute1D(x,prob,N):\n",
      "    \"\"\"Takes any numerical distribution probability, on \n",
      "    the interval defined by the array x, and returns an \n",
      "    array of N sampled values that are statistically the \n",
      "    same as the input data.\"\"\"\n",
      "    y=prob*4.*np.pi*x**2\n",
      "    A=np.cumsum(y)/(np.cumsum(y)[(len(x)-1)])\n",
      "    z=np.random.random_sample(N)\n",
      "    B=np.searchsorted(A,z)\n",
      "    return x[B]"
     ],
     "language": "python",
     "metadata": {},
     "outputs": [],
     "prompt_number": 22
    },
    {
     "cell_type": "code",
     "collapsed": false,
     "input": [],
     "language": "python",
     "metadata": {},
     "outputs": [],
     "prompt_number": 15
    },
    {
     "cell_type": "code",
     "collapsed": false,
     "input": [
      "N=10000 #Set number of times to run\n",
      "Particle1='He'\n",
      "Particle2='Au' #Set particle (See cell #3 for list of applicable particles and amu)\n",
      "BeamEnergy=200 #Set Beam Energy [GeV]\n",
      "#######################################\n",
      "Rp1=R[Particle1]#\n",
      "Rp2=R[Particle2]#\n",
      "b=(Rp1+Rp2)*1.1*np.random.random_sample(N)\n",
      "r1=np.arange(0,2*Rp1+.01,.01)#\n",
      "r2=np.arange(0,2*Rp2+.01,.01)#\n",
      "Npart=np.zeros(N,int)\n",
      "Ncoll=np.zeros(N,int)\n",
      "Maxr=np.sqrt(SigI(BeamEnergy)/np.pi)\n",
      "\n",
      "for L in range(N):\n",
      "    Nucleus1=np.zeros((A[Particle1],7),float)\n",
      "    Nucleus2=np.zeros((A[Particle2],7),float)\n",
      "    Nucleus1[:,0]=distribute1D(r1,NCD(Particle1),A[Particle1])[:]\n",
      "    Nucleus2[:,0]=distribute1D(r2,NCD(Particle2),A[Particle2])[:]\n",
      "    for i in range(A[Particle1]):\n",
      "        Nucleus1[i,1]=np.arccos(2*np.random.random_sample(1)-1)\n",
      "        Nucleus1[i,2]=2*np.pi*np.random.random_sample(1)\n",
      "        Nucleus1[i,3]=Nucleus1[i,0]*np.sin(Nucleus1[i,1])*np.cos(Nucleus1[i,2])\n",
      "        Nucleus1[i,4]=Nucleus1[i,0]*np.sin(Nucleus1[i,1])*np.sin(Nucleus1[i,2])\n",
      "        Nucleus1[i,5]=Nucleus1[i,0]*np.cos(Nucleus1[i,1])\n",
      "    for i in range(A[Particle2]):#    \n",
      "        Nucleus2[i,1]=np.arccos(2*np.random.random_sample(1)-1)\n",
      "        Nucleus2[i,2]=2*np.pi*np.random.random_sample(1)\n",
      "        Nucleus2[i,3]=Nucleus2[i,0]*np.sin(Nucleus2[i,1])*np.cos(Nucleus2[i,2])\n",
      "        Nucleus2[i,4]=Nucleus2[i,0]*np.sin(Nucleus2[i,1])*np.sin(Nucleus2[i,2])\n",
      "        Nucleus2[i,5]=Nucleus2[i,0]*np.cos(Nucleus2[i,1])\n",
      "    for p1 in range(A[Particle1]):\n",
      "        for p1x in range(A[Particle1]):\n",
      "            FailSafe=0\n",
      "            if p1x==p1:\n",
      "                pass\n",
      "            else:\n",
      "                while np.sqrt((Nucleus1[p1,3]-Nucleus1[p1x,3])**2+(Nucleus1[p1,4]+Nucleus1[p1x,4])**2+(Nucleus1[p1,5]+Nucleus1[p1x,5])**2)<Maxr:\n",
      "                    Nucleus1[p1x,1]=np.arccos(2*np.random.random_sample(1)-1)\n",
      "                    Nucleus1[p1x,2]=2*np.pi*np.random.random_sample(1)\n",
      "                    Nucleus1[p1x,3]=Nucleus1[p1x,0]*np.sin(Nucleus1[p1x,1])*np.cos(Nucleus1[p1x,2])\n",
      "                    Nucleus1[p1x,4]=Nucleus1[p1x,0]*np.sin(Nucleus1[p1x,1])*np.sin(Nucleus1[p1x,2])\n",
      "                    Nucleus1[p1x,5]=Nucleus1[p1x,0]*np.cos(Nucleus1[p1x,1])\n",
      "                    FailSafe+=1\n",
      "                    if FailSafe>10:\n",
      "                        Nucleus1[p1x,0]=distribute1D(r1,NCD(Particle1),A[Particle1])[p1x]\n",
      "                        \n",
      "    for p2 in range(A[Particle2]):\n",
      "        for p2x in range(A[Particle2]):\n",
      "            FailSafe=0\n",
      "            if p2x==p2:\n",
      "                pass\n",
      "            else:\n",
      "                while np.sqrt((Nucleus2[p2,3]-Nucleus2[p2x,3])**2+(Nucleus2[p2,4]-Nucleus2[p2x,4])**2+(Nucleus2[p2,5]-Nucleus2[p2x,5])**2)<Maxr:\n",
      "                    Nucleus2[p2x,1]=np.arccos(2*np.random.random_sample(1)-1)\n",
      "                    Nucleus2[p2x,2]=2*np.pi*np.random.random_sample(1)\n",
      "                    Nucleus2[p2x,3]=Nucleus2[p2x,0]*np.sin(Nucleus2[p2x,1])*np.cos(Nucleus2[p2x,2])\n",
      "                    Nucleus2[p2x,4]=Nucleus2[p2x,0]*np.sin(Nucleus2[p2x,1])*np.sin(Nucleus2[p2x,2])\n",
      "                    Nucleus2[p2x,5]=Nucleus2[p2x,0]*np.cos(Nucleus2[p2x,1])\n",
      "                    FailSafe+=1\n",
      "                    if FailSafe>10:\n",
      "                        Nucleus2[p2x,0]=distribute1D(r2,NCD(Particle2),A[Particle2])[p2x]\n",
      "\n",
      "    for p1 in range(A[Particle1]):\n",
      "        count=0\n",
      "        for p2 in range(A[Particle2]):\n",
      "            if np.sqrt((Nucleus1[p1,3]-Nucleus2[p2,3])**2+(b[L]+Nucleus2[p2,4]-Nucleus1[p1,4])**2) <= Maxr:\n",
      "                Ncoll[L]+=1\n",
      "            if np.sqrt((Nucleus1[p1,3]-Nucleus2[p2,3])**2+(b[L]+Nucleus2[p2,4]-Nucleus1[p1,4])**2) > Maxr:\n",
      "                count+=1\n",
      "            if count==A[Particle2]:\n",
      "                Nucleus1[p1,6]=1\n",
      "\n",
      "    for p2 in range(A[Particle2]):\n",
      "        count=0\n",
      "        for p1 in range(A[Particle1]):\n",
      "            if np.sqrt((Nucleus1[p1,3]-Nucleus2[p2,3])**2+(b[L]+Nucleus2[p2,4]-Nucleus1[p1,4])**2) > Maxr:\n",
      "                count+=1\n",
      "            if count==A[Particle1]:\n",
      "                Nucleus2[p2,6]=1\n",
      "\n",
      "    Npart[L]=A[Particle1]+A[Particle2]-(sum(Nucleus1[:,6])+sum(Nucleus2[:,6]))\n",
      "n1,bins,patches=plt.hist(Nucleus1[:,0],60,normed=True,cumulative=-1,alpha=.75,label=str(Particle1)+ \" nucleons\")\n",
      "n2,bins,patches=plt.hist(Nucleus2[:,0],60,normed=True,cumulative=-1,alpha=.75,label=str(Particle2)+\" nucleons\")\n",
      "if max(n1)>max(n2):\n",
      "    plt.plot(r1,NCD(Particle1)*max(n1),lw=2.5,label=str(Particle1)+\" Radial Density\")\n",
      "    plt.plot(r2,NCD(Particle2)*max(n1),lw=2.5,label=str(Particle2)+\" Radial Density\")\n",
      "else:\n",
      "    plt.plot(r1,NCD(Particle1)*max(n2),lw=2.5,label=str(Particle1)+\" Radial Density\")\n",
      "    plt.plot(r2,NCD(Particle2)*max(n2),lw=2.5,label=str(Particle2)+\" Radial Density\")\n",
      "plt.xlabel(\"Radial Distance [fm]\",fontsize=14)\n",
      "plt.ylabel(\"Density\",fontsize=14)\n",
      "plt.legend()\n",
      "plt.show()\n",
      "#savefig('HeAu_NucleonDistribution.png')"
     ],
     "language": "python",
     "metadata": {},
     "outputs": [],
     "prompt_number": 88
    },
    {
     "cell_type": "code",
     "collapsed": false,
     "input": [
      "#print \"Time to run 1,000 Au+Au at 200 GeV: \"+str(AuTime1000)+\" seconds.\"\n",
      "#print \"Time to run 1,000 Au+He at 200 GeV: \"+str(HeTime1000)+\" seconds.\"\n",
      "#print \"Time to run 100 Au+Au at 200 GeV: \"+str(AuTime100)+\" seconds.\"\n",
      "#print \"Time to run 100 Au+He at 200 GeV: \"+str(HeTime100)+\" seconds.\"\n",
      "#print \"Time to run 10 Au+Au at 200 GeV: \"+str(AuTime10)+\" seconds.\"\n",
      "#print \"Time to run 10 Au+He at 200 GeV: \"+str(HeTime10)+\" seconds.\"\n",
      "#print \"Time to run 1 Au+Au at 200 GeV: \"+str(AuTime1)+\" seconds.\"\n",
      "#print \"Time to run 1 Au+He at 200 GeV: \"+str(HeTime1)+\" seconds.\"\n",
      "\n",
      "Iterations=np.array([1.0,10.0,100.0,1000.0])\n",
      "AuTimes=[5.0,48.1,478.6,4832.9]\n",
      "HeTimes=[1.252,11.78,116.9,1170.3]\n",
      "def LinFit(x,a,b,c):\n",
      "    y=a*x**2+b*x+c\n",
      "    return y\n",
      "FitParams1,PcovAu=curve_fit(LinFit,Iterations,AuTimes,[0,20,5])\n",
      "FitParams2,PcovHe=curve_fit(LinFit,Iterations,HeTimes,[0,5,1])\n",
      "Iter2=np.arange(.1,10000,.5)\n",
      "plt.loglog(Iterations,AuTimes,label='Au+Au data',ls=' ',marker='o')\n",
      "plt.loglog(Iterations,HeTimes,label='He+Au data',ls=' ',marker='o')\n",
      "plt.plot(Iter2,LinFit(Iter2,FitParams1[0],FitParams1[1],FitParams1[2]),label='Au+Au fit')\n",
      "plt.plot(Iter2,LinFit(Iter2,FitParams2[0],FitParams2[1],FitParams2[2]),label='He+Au fit')\n",
      "plt.xlim(1,10000)\n",
      "plt.ylim(1,100000)\n",
      "plt.xlabel(\"Iterations\",fontsize=18)\n",
      "plt.ylabel(\"Time [s]\",fontsize=18)\n",
      "plt.legend(loc=2,fontsize=14)\n",
      "plt.show()\n",
      "#savefig('ProcessingTime.png')"
     ],
     "language": "python",
     "metadata": {},
     "outputs": [],
     "prompt_number": 29
    },
    {
     "cell_type": "code",
     "collapsed": false,
     "input": [
      "#Plots the results of the last collision\n",
      "def ShowCollision(Particle1,Particle2,Rp1,Rp2,Nucleus1,Nucleus2,b):\n",
      "    \"\"\"Plots a cross-sectional and horizontal view of the last collision.\"\"\"\n",
      "    fig,ax=plt.subplots()\n",
      "    N1=plt.Circle((Rp1,Rp1),Rp1,color='b',fill=False,lw=2)\n",
      "    N2=plt.Circle((Rp1+b[N-1],Rp1),Rp2,color='g',fill=False,lw=2)\n",
      "    fig.gca().add_artist(N1)\n",
      "    fig.gca().add_artist(N2)\n",
      "    for i in range(A[Particle1]):\n",
      "        if Nucleus1[i,6]==1:\n",
      "            ax.plot(Rp1+Nucleus1[i,4],Rp1+Nucleus1[i,3],'b.',ms=26,alpha=.6,mew=0,mec='blue')\n",
      "        if Nucleus1[i,6]==0:\n",
      "            ax.plot(Rp1+Nucleus1[i,4],Rp1+Nucleus1[i,3],'r.',ms=26,alpha=.6,mew=0,mec='red')\n",
      "    for i in range(A[Particle2]):\n",
      "        if Nucleus2[i,6]==1:\n",
      "            ax.plot(b[N-1]+Rp1+Nucleus2[i,4],Rp1+Nucleus2[i,3],'g.',ms=26,alpha=.6,mew=0,mec='green')\n",
      "        if Nucleus2[i,6]==0:\n",
      "            ax.plot(b[N-1]+Rp1+Nucleus2[i,4],Rp1+Nucleus2[i,3],'y.',ms=26,alpha=.6,mew=0,mec='yellow')\n",
      "    zed=1.2*(Rp1+Rp2)+b[N-1]\n",
      "    ax.annotate('Npart='+str(Npart[N-1])+'\\nNcoll='+str(Ncoll[N-1]),xy=(1,0),xytext=(0,1.015*zed),fontsize=16)\n",
      "    ax.annotate('Maxr: '+str(Maxr)[:5]+' fm',xy=(0,2*Rp1),xytext=(.01*zed,.95*zed),fontsize=12)\n",
      "    ax.plot([(.01*zed),(.01*zed)+Maxr],[zed*.93,zed*.93],color='r',ls='-',lw=3)\n",
      "    plt.xlim((0,zed))\n",
      "    plt.ylim((0,zed))\n",
      "    plt.xlabel('Horizontal Cross Section [fm]',fontsize=15)\n",
      "    plt.ylabel('Vertical Position [fm]',fontsize=15)\n",
      "    fig.set_size_inches(6,6)\n",
      "    fig1,ax1=plt.subplots()\n",
      "    N3=plt.Circle((Rp1,Rp1),Rp1,color='b',fill=False,lw=2)\n",
      "    N4=plt.Circle(((Rp1+Rp2)*2,Rp1+b[N-1]),Rp2,color='g',fill=False,lw=2)\n",
      "    for i in range(A[Particle1]):\n",
      "        if Nucleus1[i,6]==1:\n",
      "            ax1.plot(Rp1+Nucleus1[i,5],Rp1+Nucleus1[i,4],'b.',ms=26,alpha=.6,mew=0,mec='blue')\n",
      "        if Nucleus1[i,6]==0:\n",
      "            ax1.plot(Rp1+Nucleus1[i,5],Rp1+Nucleus1[i,4],'r.',ms=26,alpha=.6,mew=0,mec='red')\n",
      "    for i in range(A[Particle2]):\n",
      "        if Nucleus2[i,6]==1:\n",
      "            ax1.plot(2*(Rp1+Rp2)+Nucleus2[i,5],b[N-1]+Rp1+Nucleus2[i,4],'g.',ms=26,alpha=.6,mew=0,mec='green')\n",
      "        if Nucleus2[i,6]==0:\n",
      "            ax1.plot(2*(Rp1+Rp2)+Nucleus2[i,5],b[N-1]+Rp1+Nucleus2[i,4],'y.',ms=26,alpha=.6,mew=0,mec='yellow')\n",
      "    ax1.annotate(\"\",xy=(2*Rp1+Rp2,Rp1), xycoords='data',xytext=(2*Rp1,Rp1), textcoords='data',arrowprops=dict(arrowstyle='-|>',connectionstyle=\"arc\"))\n",
      "    ax1.annotate(\"\",xy=(2*Rp1,b[N-1]+Rp1), xycoords='data',xytext=(2*(Rp1+Rp2)-Rp2, b[N-1]+Rp1), textcoords='data',arrowprops=dict(arrowstyle='-|>',connectionstyle=\"arc\"))\n",
      "    fig1.gca().add_artist(N3)\n",
      "    fig1.gca().add_artist(N4)\n",
      "    zed=2.5*(Rp1+Rp2)\n",
      "    plt.xlim((0,zed))\n",
      "    plt.ylim((0,zed))\n",
      "    plt.ylabel('Vertical Position [fm]',fontsize=15)\n",
      "    plt.xlabel('Horizontal Position [fm]',fontsize=15)\n",
      "    fig1.set_size_inches(6,6)\n",
      "    plt.show()"
     ],
     "language": "python",
     "metadata": {},
     "outputs": [],
     "prompt_number": 114
    },
    {
     "cell_type": "code",
     "collapsed": false,
     "input": [
      "ShowCollision(Particle1,Particle2,Nucleus1,Nucleus2,b)"
     ],
     "language": "python",
     "metadata": {},
     "outputs": [],
     "prompt_number": 115
    },
    {
     "cell_type": "code",
     "collapsed": false,
     "input": [
      "AvgC=np.zeros(len(b))\n",
      "AvgP=np.zeros(len(b))\n",
      "EnCollL=list(enumerate(Ncoll,start=1))\n",
      "EnPartL=list(enumerate(Npart,start=1))\n",
      "Enumb=list(enumerate(b,start=1))\n",
      "Enb=np.array(Enumb,float)\n",
      "EnColl=np.array(EnCollL,float)\n",
      "EnPart=np.array(EnPartL,float)\n",
      "for i in range(len(b)):\n",
      "    AvgC[i]=sum(EnColl[0:i+1,1])/EnColl[i,0]\n",
      "    AvgP[i]=sum(EnPart[0:i+1,1])/EnPart[i,0]\n",
      "plt.scatter(b,Npart,label='Participants',color='b')\n",
      "plt.scatter(b,Ncoll,label='Collisions',color='r')\n",
      "plt.xlabel('Separation distance [fm]',fontsize=14)\n",
      "plt.xlim((0,max(b)))\n",
      "plt.ylim((0,max(Ncoll)*1.1))\n",
      "plt.legend()\n",
      "plt.show()"
     ],
     "language": "python",
     "metadata": {},
     "outputs": [],
     "prompt_number": 35
    },
    {
     "cell_type": "markdown",
     "metadata": {},
     "source": [
      " "
     ]
    },
    {
     "cell_type": "code",
     "collapsed": false,
     "input": [
      "HData=np.zeros((len(b),2))\n",
      "PData=np.zeros((len(b),2))\n",
      "HData[:,0]=b[:]\n",
      "PData[:,0]=b[:]\n",
      "HData[:,1]=Ncoll[:]\n",
      "PData[:,1]=Npart[:]\n",
      "SortHData=HData[HData[:,0].argsort()]\n",
      "SortPData=PData[PData[:,0].argsort()]\n",
      "AvgNColl=np.zeros(np.floor(max(SortHData[:,0]))+1)\n",
      "AvgNPart=np.zeros(np.floor(max(SortPData[:,0]))+1)\n",
      "CBins=np.zeros(len(AvgNColl))\n",
      "PBins=np.zeros(len(AvgNPart))\n",
      "xColl=np.linspace(0,len(AvgNColl)-1,len(AvgNColl))\n",
      "xPart=np.linspace(0,len(AvgNPart)-1,len(AvgNPart))\n",
      "lc=0\n",
      "lp=0\n",
      "for n in SortHData[:,0]:\n",
      "    AvgNColl[np.floor(n)]+=SortHData[lc,1]\n",
      "    CBins[np.floor(n)]+=1\n",
      "    lc+=1\n",
      "for i in SortPData[:,0]:\n",
      "    AvgNPart[np.floor(i)]+=SortPData[lp,1]\n",
      "    PBins[np.floor(i)]+=1\n",
      "    lp+=1\n",
      "for p in range(len(CBins)):\n",
      "    AvgNColl[p]=AvgNColl[p]/CBins[p]\n",
      "    AvgNPart[p]=AvgNPart[p]/PBins[p]\n",
      "plt.bar(xColl,AvgNColl,width=1,alpha=.5,color='red',label='Average Collisions')\n",
      "plt.bar(xPart,AvgNPart,width=1,alpha=.5,color='blue',label='Average Participants')\n",
      "plt.scatter(b,Ncoll,color='red',label='Collisions')\n",
      "plt.scatter(b,Npart,color='blue',label='Participants')\n",
      "plt.xlim(0,len(CBins))\n",
      "plt.ylim(0,max(Ncoll)*1.1)\n",
      "plt.ylabel('Npart / Ncoll',fontsize=15)\n",
      "plt.xlabel('Separation distance [fm]',fontsize=14)\n",
      "plt.legend()\n",
      "xColl1=xColl.copy()\n",
      "for i in range(len(xColl[1:])):\n",
      "    xColl1[i]=(xColl[i]+xColl[i+1])/2\n",
      "plt.plot(xColl1,AvgNColl,'g-',lw=4)\n",
      "plt.show()"
     ],
     "language": "python",
     "metadata": {},
     "outputs": [],
     "prompt_number": 92
    },
    {
     "cell_type": "code",
     "collapsed": false,
     "input": [
      "def PlotResults(b,Npart,Ncoll,bins=10):\n",
      "    \"\"\"Plots number of collisions and participants as a function of impact parameter. \n",
      "    Shows average trend over data using specified number of bins.\"\"\"\n",
      "    xmin=0\n",
      "    xmax=max(b)\n",
      "    x=b\n",
      "    y=Ncoll\n",
      "    j = bins\n",
      "    E = np.zeros(j)\n",
      "    H = np.zeros(j)\n",
      "    L = np.zeros(j)#,int64)\n",
      "    newx = np.linspace(xmin,xmax,j)\n",
      "    binwidth = (xmax-xmin)/float(j)\n",
      "    #Shift by half a bin so the values plot at the right location?  \n",
      "    #If the bins are small enough or the function not too steep, this doesn't matter\n",
      "    plotx = newx - 0.5*binwidth \n",
      "    for i in range(len(x)):\n",
      "        #find the array element in newx where the value from x belongs\n",
      "        val = x[i]\n",
      "        bin = newx.searchsorted(val)\n",
      "        L[bin] += 1\n",
      "        E[bin] += y[i]**2\n",
      "        H[bin] += y[i]\n",
      "    h = H/L\n",
      "    spr = np.sqrt(E/L - h**2)\n",
      "    err = spr/np.sqrt(L)\n",
      "    y2=Npart\n",
      "    E2 = np.zeros(j)\n",
      "    H2 = np.zeros(j)\n",
      "    L2 = np.zeros(j)#,int64)\n",
      "    newx2 = np.linspace(xmin,xmax,j)\n",
      "    binwidth2 = (xmax-xmin)/float(j)\n",
      "    plotx2 = newx2 - 0.5*binwidth2\n",
      "    for i in range(len(x)):\n",
      "        val2 = x[i]\n",
      "        bin = newx2.searchsorted(val2)\n",
      "        L2[bin] += 1\n",
      "        E2[bin] += y2[i]**2\n",
      "        H2[bin] += y2[i]\n",
      "    h2 = H2/L2\n",
      "    spr2 = np.sqrt(E2/L2 - h2**2)\n",
      "    err2 = spr2/np.sqrt(L2)\n",
      "    plt.plot(x,y,\"ro\",alpha=.9,label='Ncoll')\n",
      "    plt.plot(x,y2,\"bo\",alpha=.5,label='Npart')\n",
      "    plt.plot(plotx2,h2,\"g-\",linewidth=4,label='Avg Npart')\n",
      "    plt.plot(plotx,h,\"r-\",linewidth=4,label='Avg Ncoll')\n",
      "    plt.xlim(0,max(x))\n",
      "    plt.ylim(0,1.1*max(y))\n",
      "    plt.legend()\n",
      "    plt.ylabel('Npart / Ncoll')\n",
      "    plt.xlabel('Impact parameter [fm]')\n",
      "    plt.title(str(Particle1)+' + '+str(Particle2)+'. '+str(N)+' iterations. '+str(BeamEnergy)+' center-of-mass energy [GeV].')\n",
      "    plt.show()"
     ],
     "language": "python",
     "metadata": {},
     "outputs": [],
     "prompt_number": 107
    },
    {
     "cell_type": "code",
     "collapsed": false,
     "input": [
      "PlotResults(b,Npart,Ncoll,14)"
     ],
     "language": "python",
     "metadata": {},
     "outputs": [],
     "prompt_number": 113
    },
    {
     "cell_type": "code",
     "collapsed": false,
     "input": [],
     "language": "python",
     "metadata": {},
     "outputs": [],
     "prompt_number": 39
    },
    {
     "cell_type": "code",
     "collapsed": false,
     "input": [],
     "language": "python",
     "metadata": {},
     "outputs": [],
     "prompt_number": 39
    },
    {
     "cell_type": "code",
     "collapsed": false,
     "input": [
      "import time\n",
      "CurrentTime=time.strftime(\"%c\")\n",
      "print CurrentTime\n",
      "testArray=[1,2,3,4,5]\n",
      "testArray4=[1,2,3,4,5]\n",
      "testArray1=array(((1,2,3),(4,5,6),(7,8,9)))\n",
      "testArray2=[(4,3,2),(3,2,1),(3,2,1)]\n",
      "testArray3=15.77\n",
      "Energy=200\n",
      "\n",
      "\n",
      "TimeNow=str(CurrentTime[0:2])+str(CurrentTime[3:5])+str(CurrentTime[6:8])+str(CurrentTime[9:11])+str(CurrentTime[12:14])+str(CurrentTime[15:17])\n",
      "#savetxt(\"TestCase\"+str(TimeNow)+\".dat\",column_stack((testArray,testArray4)),fmt='%.1e',header='Energy=this\\nparticle=this',comments='#')"
     ],
     "language": "python",
     "metadata": {},
     "outputs": [
      {
       "output_type": "stream",
       "stream": "stdout",
       "text": [
        "05/21/14 16:02:52\n"
       ]
      }
     ],
     "prompt_number": 68
    },
    {
     "cell_type": "code",
     "collapsed": false,
     "input": [
      "for line in(range(len(testArray1))):\n",
      "    print testArray1[line,:]"
     ],
     "language": "python",
     "metadata": {},
     "outputs": [
      {
       "output_type": "stream",
       "stream": "stdout",
       "text": [
        "[1 2 3]\n",
        "[4 5 6]\n",
        "[7 8 9]\n"
       ]
      }
     ],
     "prompt_number": 69
    },
    {
     "cell_type": "code",
     "collapsed": false,
     "input": [
      "help(open)\n",
      "#help(write)\n",
      "#help(close)"
     ],
     "language": "python",
     "metadata": {},
     "outputs": [],
     "prompt_number": 232
    },
    {
     "cell_type": "code",
     "collapsed": false,
     "input": [
      "f=open('testfile.txt','w')\n",
      "f.write()"
     ],
     "language": "python",
     "metadata": {},
     "outputs": []
    },
    {
     "cell_type": "markdown",
     "metadata": {},
     "source": [
      "All Particle Data extracted from:\n",
      "\n",
      "J. Beringer et al. (Particle Data Group), Phys. Rev. D86, 010001 (2012)\n",
      "http://pdg.lbl.gov/2012/hadronic-xsections/"
     ]
    },
    {
     "cell_type": "code",
     "collapsed": false,
     "input": [
      "print b[0]\n",
      "print NewFloor(b[0],1./10)*10"
     ],
     "language": "python",
     "metadata": {},
     "outputs": [
      {
       "output_type": "stream",
       "stream": "stdout",
       "text": [
        "7.21554743616\n",
        "72.0\n"
       ]
      }
     ],
     "prompt_number": 87
    },
    {
     "cell_type": "code",
     "collapsed": false,
     "input": [
      "def Collider(N,Particle,BeamEnergy):\n",
      "    \"\"\"\n",
      "    Simulates N collisions given specific Element and Beam Energy [GeV]. \n",
      "    Returns the matrices that correspond to center-to-center seperation distance \n",
      "    (Random value between 0 and 150% of the Nucleus diameter [fm]), \n",
      "    Nuclei 1 and 2, number participating nucleons, and the number of binary \n",
      "    collisions. Additionally returns the interactions distance of the nucleons \n",
      "    given the choosen beam energy.\n",
      "    \"\"\"\n",
      "    #N=1 #Set number of times to run\n",
      "    #Particle='U' #Set particle (See cell #3 for list of applicable particles and amu)\n",
      "    #BeamEnergy=2*10**8 #Set Beam Energy [GeV]\n",
      "    w={'C':0,'O':-.051,'Al':0,'S':0,'Ca':-.161,'Ni':-.1308,'Cu':0,'W':0,'Au':0,'Pb':0,'U':0}\n",
      "    A={'C':12,'O':16,'Al':27,'S':32,'Ca':40,'Ni':58,'Cu':63,'W':186,'Au':197,'Pb':208,'U':238}\n",
      "    R={'C':2.47,'O':2.608,'Al':3.07,'S':3.458,'Ca':3.76,'Ni':4.309,'Cu':4.2,'W':6.51,'Au':6.38,'Pb':6.68,'U':6.68}\n",
      "    a={'C':0,'O':.513,'Al':.519,'S':.61,'Ca':.586,'Ni':.516,'Cu':.596,'W':.535,'Au':.535,'Pb':.546,'U':.6}\n",
      "    Rp=R[Particle] \n",
      "    b=1.5*Rp*random_sample(N)\n",
      "    r=arange(0,1.5*Rp+.01,.01)\n",
      "    Npart=zeros(N,float)\n",
      "    Ncoll=zeros(N,float)\n",
      "    Maxr=(float(SigI(BeamEnergy))/pi)**.5\n",
      "    for L in range(N):\n",
      "        Nucleus1=zeros((A[Particle],2),float)\n",
      "        Nucleus2=zeros((A[Particle],2),float)\n",
      "        Nucleus1[:,0]=distribute1D(r,NCD(Particle),A[Particle])[:]\n",
      "        Nucleus2[:,0]=distribute1D(r,NCD(Particle),A[Particle])[:]\n",
      "        for i in range(A[Particle]):\n",
      "            Nucleus1[i,1]=2*pi*random_sample(1)\n",
      "            Nucleus2[i,1]=2*pi*random_sample(1)\n",
      "        Col1=copy(Nucleus1)\n",
      "        Col2=copy(Nucleus2)\n",
      "        for p1 in range(A[Particle]):\n",
      "            count=0\n",
      "            for p2 in range(A[Particle]):\n",
      "                if ((b[L]+Nucleus2[p2,0]*cos(Nucleus2[p2,1])-Nucleus1[p1,0]*cos(Nucleus1[p1,1]))**2+(Nucleus2[p2,0]*sin(Nucleus2[p2,1])-Nucleus1[p1,0]*sin(Nucleus1[p1,1]))**2)**.5 < Maxr:\n",
      "                    Ncoll[L]+=1\n",
      "                if ((b[L]+Nucleus2[p2,0]*cos(Nucleus2[p2,1])-Nucleus1[p1,0]*cos(Nucleus1[p1,1]))**2+(Nucleus2[p2,0]*sin(Nucleus2[p2,1])-Nucleus1[p1,0]*sin(Nucleus1[p1,1]))**2)**.5 > Maxr:\n",
      "                    count+=1\n",
      "                if count==A[Particle]:\n",
      "                    Col1[p1]=100\n",
      "        for p2 in range(A[Particle]):\n",
      "            count=0\n",
      "            for p1 in range(A[Particle]):\n",
      "                if ((b[L]+Nucleus2[p2,0]*cos(Nucleus2[p2,1])-Nucleus1[p1,0]*cos(Nucleus1[p1,1]))**2+(Nucleus2[p2,0]*sin(Nucleus2[p2,1])-Nucleus1[p1,0]*sin(Nucleus1[p1,1]))**2)**.5 > Maxr:\n",
      "                    count+=1\n",
      "                if count==A[Particle]:\n",
      "                    Col2[p2]=100\n",
      "        for i in Col1[:,0]:\n",
      "            if i<100:\n",
      "                Npart[L]+=1\n",
      "        for i in Col2[:,0]:\n",
      "            if i<100:\n",
      "                Npart[L]+=1\n",
      "    return b,Nucleus1,Nucleus2,Npart,Ncoll,Maxr,Col1,Col2\n",
      "\n",
      "def PlotNuclei(Nucleus1,Nucleus2,Particle):\n",
      "    \"\"\"\n",
      "    Plots a histogram showing the relation between radial distance and \n",
      "    the number of nucleons from each nucleus. \n",
      "    Blue corresponds to nucleus 1 and green to nucleus 2.\n",
      "    \"\"\"\n",
      "    w={'C':0,'O':-.051,'Al':0,'S':0,'Ca':-.161,'Ni':-.1308,'Cu':0,'W':0,'Au':0,'Pb':0,'U':0}\n",
      "    A={'C':12,'O':16,'Al':27,'S':32,'Ca':40,'Ni':58,'Cu':63,'W':186,'Au':197,'Pb':208,'U':238}\n",
      "    R={'C':2.47,'O':2.608,'Al':3.07,'S':3.458,'Ca':3.76,'Ni':4.309,'Cu':4.2,'W':6.51,'Au':6.38,'Pb':6.68,'U':6.68}\n",
      "    a={'C':0,'O':.513,'Al':.519,'S':.61,'Ca':.586,'Ni':.516,'Cu':.596,'W':.535,'Au':.535,'Pb':.546,'U':.6}\n",
      "    Rp=R[Particle]\n",
      "    r=arange(0,1.5*Rp+.01,.01)\n",
      "    n1,bins,patches=hist(Nucleus1[:,0],15,normed=True,alpha=1)\n",
      "    n2,bins,patches=hist(Nucleus2[:,0],15,normed=True,alpha=.8)\n",
      "    if max(n1)<=max(n2):\n",
      "        plot(r,NCD(Particle)*max(n2),lw=2.5)\n",
      "    else:\n",
      "        plot(r,NCD(Particle)*max(n1),lw=2.5)\n",
      "    xlabel(\"Radial Distance [fm]\",fontsize=14)\n",
      "    ylabel(\"Density\",fontsize=14)\n"
     ],
     "language": "python",
     "metadata": {},
     "outputs": [],
     "prompt_number": 14
    },
    {
     "cell_type": "code",
     "collapsed": false,
     "input": [
      "def PlotCollision(N,Particle,ImpactDistance,Nucleus1,Nucleus2,Participants,BinaryCollisions,Maxr,Col1,Col2):\n",
      "    \"\"\"Plots a cross-sectional view of the colliding particles.\"\"\"\n",
      "    b=ImpactDistance\n",
      "    Npart=Participants\n",
      "    Ncoll=BinaryCollisions\n",
      "    w={'C':0,'O':-.051,'Al':0,'S':0,'Ca':-.161,'Ni':-.1308,'Cu':0,'W':0,'Au':0,'Pb':0,'U':0}\n",
      "    A={'C':12,'O':16,'Al':27,'S':32,'Ca':40,'Ni':58,'Cu':63,'W':186,'Au':197,'Pb':208,'U':238}\n",
      "    R={'C':2.47,'O':2.608,'Al':3.07,'S':3.458,'Ca':3.76,'Ni':4.309,'Cu':4.2,'W':6.51,'Au':6.38,'Pb':6.68,'U':6.68}\n",
      "    a={'C':0,'O':.513,'Al':.519,'S':.61,'Ca':.586,'Ni':.516,'Cu':.596,'W':.535,'Au':.535,'Pb':.546,'U':.6}\n",
      "    Rp=R[Particle]\n",
      "    N1=plt.Circle((Rp,Rp),Rp,color='b',fill=False,lw=2)\n",
      "    N2=plt.Circle((Rp+b[N-1],Rp),Rp,color='g',fill=False,lw=2)\n",
      "    fig = plt.gcf()\n",
      "    ax = plt.gca()\n",
      "    ax.plot(Rp+Nucleus1[:,0]*cos(Nucleus1[:,1]),Rp+Nucleus1[:,0]*sin(Nucleus1[:,1]),'b.',ms=26,alpha=.8,mew=1,mec='blue')\n",
      "    ax.plot(Rp+b[N-1]+Nucleus2[:,0]*cos(Nucleus2[:,1]),Rp+Nucleus2[:,0]*sin(Nucleus2[:,1]),'g.',ms=26,alpha=.8,mew=1,mec='green')\n",
      "    ax.plot(Rp+Col1[:,0]*cos(Col1[:,1]),Rp+Col1[:,0]*sin(Col1[:,1]),'r.',ms=26,alpha=.4,mew=1,mec='red')\n",
      "    ax.plot(Rp+b[N-1]+Col2[:,0]*cos(Col2[:,1]),Rp+Col2[:,0]*sin(Col2[:,1]),'r.',ms=26,alpha=.4,mew=1,mec='red')\n",
      "    ax.annotate('Npart='+str(Npart[0])+'\\nNcoll='+str(Ncoll[0]),xy=(1,0),xytext=(-3,26.5),fontsize=16)\n",
      "    ax.annotate('Maxr: '+str(Maxr)[:5]+' fm',xy=(0,2*Rp),xytext=(-3,24.5),fontsize=12)\n",
      "    fig.gca().add_artist(N1)\n",
      "    fig.gca().add_artist(N2)\n",
      "    plot([-2.5,Maxr-2.5],[24,24],color='r',ls='-',lw=3)\n",
      "    xlim((-4,26))\n",
      "    ylim((-4,26))\n",
      "    xlabel('Horizontal Position [fm]',fontsize=15)\n",
      "    ylabel('Vertical Position [fm]',fontsize=15)\n",
      "    fig.set_size_inches(6,6)"
     ],
     "language": "python",
     "metadata": {},
     "outputs": [],
     "prompt_number": 15
    },
    {
     "cell_type": "code",
     "collapsed": false,
     "input": [
      "Event1=Collider(1,'Au',200)\n",
      "PlotNuclei(Event1[1],Event1[2],'Au')"
     ],
     "language": "python",
     "metadata": {},
     "outputs": [
      {
       "metadata": {},
       "output_type": "display_data",
       "png": "[encoded data removed]",
       "text": [
        "<matplotlib.figure.Figure at 0x8566160>"
       ]
      }
     ],
     "prompt_number": 28
    },
    {
     "cell_type": "code",
     "collapsed": false,
     "input": [
      "PlotCollision(1,'Au',Event1[0],Event1[1],Event1[2],Event1[3],Event1[4],Event1[5],Event1[6],Event1[7])\n",
      "print Event1[0]"
     ],
     "language": "python",
     "metadata": {},
     "outputs": [
      {
       "output_type": "stream",
       "stream": "stdout",
       "text": [
        "[ 5.88236497]\n"
       ]
      },
      {
       "metadata": {},
       "output_type": "display_data",
       "png": "[encoded data removed]",
       "text": [
        "<matplotlib.figure.Figure at 0x7f23c88>"
       ]
      }
     ],
     "prompt_number": 30
    },
    {
     "cell_type": "markdown",
     "metadata": {},
     "source": [
      "$E_{cm} =[(E_{1}+E_{2})^{2}-(p_{lab})^{2}]^{1/2}$"
     ]
    },
    {
     "cell_type": "markdown",
     "metadata": {},
     "source": [
      "$E_{cm}=(2m_{p}^{2}+2E_{1 lab}m_{p})^{1/2}$"
     ]
    },
    {
     "cell_type": "markdown",
     "metadata": {},
     "source": [
      "$P_{lab}=[(\\frac{E_{cm}^{2}}{2m}-m)^{2}-m^{2}]^{1/2}$"
     ]
    },
    {
     "cell_type": "code",
     "collapsed": false,
     "input": [
      "def ProfileX(xIn,yIn):\n",
      "    xOut=xIn #Keep same length, but shift x values by half a bin\n",
      "    yOut=yIn\n",
      "    inN=len(xIn) #Calculate bin width, then calculate the position of center of each bin given bin width and starting point\n",
      "    return xOut,yOut"
     ],
     "language": "python",
     "metadata": {},
     "outputs": [],
     "prompt_number": 35
    },
    {
     "cell_type": "code",
     "collapsed": false,
     "input": [
      "from IPython.html import widgets\n",
      "from IPython.display import display, clear_output"
     ],
     "language": "python",
     "metadata": {},
     "outputs": [
      {
       "ename": "ImportError",
       "evalue": "cannot import name interact",
       "output_type": "pyerr",
       "traceback": [
        "\u001b[1;31m---------------------------------------------------------------------------\u001b[0m\n\u001b[1;31mImportError\u001b[0m                               Traceback (most recent call last)",
        "\u001b[1;32m<ipython-input-3-d4a484f59b5b>\u001b[0m in \u001b[0;36m<module>\u001b[1;34m()\u001b[0m\n\u001b[1;32m----> 1\u001b[1;33m \u001b[1;32mfrom\u001b[0m \u001b[0mIPython\u001b[0m\u001b[1;33m.\u001b[0m\u001b[0mhtml\u001b[0m \u001b[1;32mimport\u001b[0m \u001b[0mwidgets\u001b[0m\u001b[1;33m,\u001b[0m \u001b[0minteract\u001b[0m\u001b[1;33m,\u001b[0m \u001b[0minteractive\u001b[0m\u001b[1;33m\u001b[0m\u001b[0m\n\u001b[0m\u001b[0;32m      2\u001b[0m \u001b[1;32mfrom\u001b[0m \u001b[0mIPython\u001b[0m\u001b[1;33m.\u001b[0m\u001b[0mdisplay\u001b[0m \u001b[1;32mimport\u001b[0m \u001b[0mdisplay\u001b[0m\u001b[1;33m,\u001b[0m \u001b[0mclear_output\u001b[0m\u001b[1;33m\u001b[0m\u001b[0m\n",
        "\u001b[1;31mImportError\u001b[0m: cannot import name interact"
       ]
      }
     ],
     "prompt_number": 3
    },
    {
     "cell_type": "code",
     "collapsed": false,
     "input": [
      "def on_value_change(name, value):\n",
      "    print(w.value)\n",
      "#help(widgets.FloatSliderWidget)\n",
      "w = widgets.FloatSliderWidget(max=10,min=0,step=.1,value=1)\n",
      "w.on_trait_change(on_value_change,'value')\n",
      "display(w)"
     ],
     "language": "python",
     "metadata": {},
     "outputs": [
      {
       "output_type": "stream",
       "stream": "stdout",
       "text": [
        "1.1\n"
       ]
      },
      {
       "output_type": "stream",
       "stream": "stdout",
       "text": [
        "1.2\n"
       ]
      },
      {
       "output_type": "stream",
       "stream": "stdout",
       "text": [
        "1.3\n"
       ]
      },
      {
       "output_type": "stream",
       "stream": "stdout",
       "text": [
        "1.4\n"
       ]
      },
      {
       "output_type": "stream",
       "stream": "stdout",
       "text": [
        "1.5\n"
       ]
      },
      {
       "output_type": "stream",
       "stream": "stdout",
       "text": [
        "1.6\n"
       ]
      },
      {
       "output_type": "stream",
       "stream": "stdout",
       "text": [
        "1.7\n"
       ]
      },
      {
       "output_type": "stream",
       "stream": "stdout",
       "text": [
        "1.8\n"
       ]
      },
      {
       "output_type": "stream",
       "stream": "stdout",
       "text": [
        "1.9\n"
       ]
      },
      {
       "output_type": "stream",
       "stream": "stdout",
       "text": [
        "1.8\n"
       ]
      },
      {
       "output_type": "stream",
       "stream": "stdout",
       "text": [
        "1.7\n"
       ]
      },
      {
       "output_type": "stream",
       "stream": "stdout",
       "text": [
        "1.9\n"
       ]
      },
      {
       "output_type": "stream",
       "stream": "stdout",
       "text": [
        "1.6\n"
       ]
      },
      {
       "output_type": "stream",
       "stream": "stdout",
       "text": [
        "1.5\n"
       ]
      }
     ],
     "prompt_number": 2
    },
    {
     "cell_type": "code",
     "collapsed": false,
     "input": [
      "slope=widgets.FloatSliderWidget(max=10,min=0,step=.1)\n",
      "display(slope)\n",
      "x=arange(0,10.1,.1)\n",
      "y=LinFit(x,0,slope.value,b_int)\n",
      "plot(y,x)"
     ],
     "language": "python",
     "metadata": {},
     "outputs": [
      {
       "metadata": {},
       "output_type": "pyout",
       "prompt_number": 49,
       "text": [
        "[<matplotlib.lines.Line2D at 0x1319ee10>]"
       ]
      },
      {
       "metadata": {},
       "output_type": "display_data",
       "png": "[encoded data removed]",
       "text": [
        "<matplotlib.figure.Figure at 0x13134780>"
       ]
      }
     ],
     "prompt_number": 49
    },
    {
     "cell_type": "code",
     "collapsed": false,
     "input": [
      "ls"
     ],
     "language": "python",
     "metadata": {},
     "outputs": [
      {
       "output_type": "stream",
       "stream": "stdout",
       "text": [
        " Volume in drive C is OS\n",
        " Volume Serial Number is 64C1-29D4\n",
        "\n",
        " Directory of C:\\Users\\Crex\\Documents\\GitHub\\PHYS202-S13\\Project\n",
        "\n",
        "05/15/2014  01:04 AM    <DIR>          .\n",
        "05/15/2014  01:04 AM    <DIR>          ..\n",
        "10/21/2013  03:33 PM    <DIR>          .ipynb_checkpoints\n",
        "05/13/2014  05:32 PM            54,625 AuAu_CollisionExampleH.png\n",
        "05/13/2014  05:32 PM            67,943 AuAu_CollisionExampleS.png\n",
        "05/13/2014  05:26 PM            29,222 AuAu_NucleonDistribution.png\n",
        "05/13/2014  05:03 PM            50,196 AuAu200GeV_Results.png\n",
        "10/14/2013  11:39 PM            16,026 EPNG_Data.txt\n",
        "01/21/2014  03:19 PM             9,721 GlauberModel.py\n",
        "05/13/2014  05:39 PM            36,018 HeAu_CollisionExampleH.png\n",
        "05/13/2014  05:39 PM            44,340 HeAu_CollisionExampleS.png\n",
        "05/13/2014  05:43 PM            28,180 HeAu_NucleonDistribution.png\n",
        "05/13/2014  05:39 PM            56,190 HeAu200GeV_Results.png\n",
        "05/15/2014  12:07 AM            22,889 HeHe_CollisionExampleH.png\n",
        "05/15/2014  12:07 AM            30,138 HeHe_CollisionExampleS.png\n",
        "05/27/2014  12:05 AM           869,974 NuclearInteractions.ipynb\n",
        "10/14/2013  11:39 PM            30,202 PDG_Data.txt\n",
        "05/13/2014  04:38 PM            40,054 ppCrossSectionData.png\n",
        "05/15/2014  01:07 AM            30,999 ProcessingTime.png\n",
        "10/14/2013  11:39 PM               409 README.md\n",
        "10/14/2013  11:39 PM            30,649 rpp2012-pp_total.dat.txt\n",
        "03/05/2014  01:38 PM            16,371 rpp2013-pp_elastic.dat\n",
        "03/05/2014  01:27 PM            30,760 rpp2013-pp_total.dat\n",
        "04/16/2014  09:35 AM               115 TestCase041614093526.dat\n",
        "04/16/2014  09:36 AM               115 TestCase041614093654.dat\n",
        "              22 File(s)      1,495,136 bytes\n",
        "               3 Dir(s)  724,982,775,808 bytes free\n"
       ]
      }
     ],
     "prompt_number": 33
    },
    {
     "cell_type": "code",
     "collapsed": false,
     "input": [],
     "language": "python",
     "metadata": {},
     "outputs": []
    }
   ],
   "metadata": {}
  }
 ]
}